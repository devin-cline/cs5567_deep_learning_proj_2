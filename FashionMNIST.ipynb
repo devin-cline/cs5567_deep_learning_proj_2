{
 "cells": [
  {
   "cell_type": "code",
   "execution_count": 49,
   "metadata": {
    "id": "hASLpyncBmvt"
   },
   "outputs": [],
   "source": [
    "!pip install -U portalocker>=2.0.0"
   ]
  },
  {
   "cell_type": "markdown",
   "metadata": {
    "id": "L3IIK5kzHGH0"
   },
   "source": [
    "## PyTorch"
   ]
  },
  {
   "cell_type": "code",
   "execution_count": 50,
   "metadata": {
    "id": "_aWMlQ33ByRO"
   },
   "outputs": [],
   "source": [
    "import torch\n",
    "import torch.nn as nn\n",
    "import torch.optim as optim\n",
    "import torchvision\n",
    "import torchvision.transforms as transforms\n",
    "from torch.utils.data import DataLoader\n",
    "import matplotlib.pyplot as plt\n",
    "import time"
   ]
  },
  {
   "cell_type": "code",
   "execution_count": 51,
   "metadata": {
    "id": "jOCzfnBvB_bQ"
   },
   "outputs": [],
   "source": [
    "# Transformations --> this is a \"pre-processing step\" that's typical for image processing methods\n",
    "transform = transforms.Compose([\n",
    "    transforms.ToTensor(),  # Convert PIL image or numpy.ndarray to tensor\n",
    "    transforms.Normalize((0.5,), (0.5,))  # Normalize data to range [-1, 1]\n",
    "])\n",
    "# This dataset is already \"sorted\" as part of the import method, but no \"validation\" set has been selected in this case\n",
    "# Loading the FashionMNIST dataset\n",
    "train_dataset = torchvision.datasets.FashionMNIST(root='./data', train=True, download=True, transform=transform)\n",
    "test_dataset = torchvision.datasets.FashionMNIST(root='./data', train=False, download=True, transform=transform)\n",
    "\n",
    "# Training and Testing loaders\n",
    "train_loader = torch.utils.data.DataLoader(train_dataset, batch_size=64, shuffle=True)\n",
    "test_loader = torch.utils.data.DataLoader(test_dataset, batch_size=64, shuffle=False)"
   ]
  },
  {
   "cell_type": "code",
   "execution_count": 52,
   "metadata": {
    "id": "jZk_FS9JCLOH"
   },
   "outputs": [],
   "source": [
    "# Mapping the labels for the MNIST dataset -- later we'll see that this using the \"keras to_categorical\" method as discussed in class\n",
    "labels_map = {\n",
    "    0: \"0\", 1: \"1\", 2: \"2\", 3: \"3\", 4: \"4\",\n",
    "    5: \"5\", 6: \"6\", 7: \"7\", 8: \"8\", 9: \"9\"\n",
    "}"
   ]
  },
  {
   "cell_type": "code",
   "execution_count": 53,
   "metadata": {
    "id": "ykrRIGSdCMu5"
   },
   "outputs": [
    {
     "data": {
      "image/png": "[encoded data removed]",
      "text/plain": [
       "<Figure size 800x800 with 9 Axes>"
      ]
     },
     "metadata": {},
     "output_type": "display_data"
    }
   ],
   "source": [
    "#This cell is designed to display a few images from the dataset\n",
    "#It isn't necessary to run this, but it can help give a better idea of the challanges your model will face\n",
    "figure = plt.figure(figsize=(8, 8))\n",
    "cols, rows = 3, 3\n",
    "\n",
    "# Displaying figures from the dataset randomly\n",
    "for i in range(1, cols * rows + 1):\n",
    "    sample_idx = torch.randint(len(train_dataset), size=(1,)).item()\n",
    "    img, label = train_dataset[sample_idx]\n",
    "    figure.add_subplot(rows, cols, i)\n",
    "    plt.title(labels_map[label])\n",
    "    plt.axis(\"off\")\n",
    "    plt.imshow(img.squeeze(), cmap=\"gray\")\n",
    "plt.show()"
   ]
  },
  {
   "cell_type": "code",
   "execution_count": 54,
   "metadata": {
    "id": "3JLJ0ZFCER5m"
   },
   "outputs": [],
   "source": [
    "#Here we define the model parameters -- the general structure as provided here will produce a fully connected network [28x28] --> 32 --> 16 --> 10\n",
    "class MLP(nn.Module): #MLP stands for \"Multi-Layer Perceptron\"\n",
    "    def __init__(self): #this initializes the structure of the network\n",
    "        super(MLP, self).__init__()\n",
    "        self.fc1 = nn.Linear(28 * 28, 256) ## First fully connected linear layer, 28*28 input features and 256 outputs\n",
    "        self.fc2 = nn.Linear(256, 128) ## Second fully connected linear layer, 256 inputs and 128 outputs\n",
    "        self.fc3 = nn.Linear(128, 10) ## 10 output features because MNIST has 10 target classes\n",
    "\n",
    "    def forward(self, x): #this modifies the elements of the intial structure defined above\n",
    "        x = x.view(-1, 28 * 28) #the array is sent in as a vector\n",
    "        x = torch.sigmoid(self.fc1(x)) ## Applying sigmoid activation for the first layer\n",
    "        x = torch.tanh(self.fc2(x)) ## Applying tanh activation for the second layer\n",
    "        x = self.fc3(x) ## no modifications to the activation of the output layer\n",
    "        return x\n",
    "\n",
    "# Initializing the neural network\n",
    "model = MLP()"
   ]
  },
  {
   "cell_type": "code",
   "execution_count": 55,
   "metadata": {
    "id": "2hFOEXCPEVTw"
   },
   "outputs": [
    {
     "name": "stdout",
     "output_type": "stream",
     "text": [
      "Epoch 1, Batch 100, Loss: 0.8904350686073303\n",
      "Epoch 1, Batch 200, Loss: 0.5552436327934265\n",
      "Epoch 1, Batch 300, Loss: 0.4937435209751129\n",
      "Epoch 1, Batch 400, Loss: 0.488674179315567\n",
      "Epoch 1, Batch 500, Loss: 0.4486476792395115\n",
      "Epoch 1, Batch 600, Loss: 0.43819622799754143\n",
      "Epoch 1, Batch 700, Loss: 0.4436705894768238\n",
      "Epoch 1, Batch 800, Loss: 0.41725158974528315\n",
      "Epoch 1, Batch 900, Loss: 0.41850311785936356\n",
      "Epoch 2, Batch 100, Loss: 0.3858136209845543\n",
      "Epoch 2, Batch 200, Loss: 0.3939781682193279\n",
      "Epoch 2, Batch 300, Loss: 0.38820263102650643\n",
      "Epoch 2, Batch 400, Loss: 0.38984438717365266\n",
      "Epoch 2, Batch 500, Loss: 0.38577166199684143\n",
      "Epoch 2, Batch 600, Loss: 0.3576371784508228\n",
      "Epoch 2, Batch 700, Loss: 0.34489414617419245\n",
      "Epoch 2, Batch 800, Loss: 0.36689691483974457\n",
      "Epoch 2, Batch 900, Loss: 0.3629496595263481\n",
      "Epoch 3, Batch 100, Loss: 0.33151262789964675\n",
      "Epoch 3, Batch 200, Loss: 0.360899228900671\n",
      "Epoch 3, Batch 300, Loss: 0.33971808522939684\n",
      "Epoch 3, Batch 400, Loss: 0.34747024402022364\n",
      "Epoch 3, Batch 500, Loss: 0.3469053515791893\n",
      "Epoch 3, Batch 600, Loss: 0.3380253940820694\n",
      "Epoch 3, Batch 700, Loss: 0.3473885301500559\n",
      "Epoch 3, Batch 800, Loss: 0.33029178239405155\n",
      "Epoch 3, Batch 900, Loss: 0.34780578017234803\n",
      "Epoch 4, Batch 100, Loss: 0.3338006898760796\n",
      "Epoch 4, Batch 200, Loss: 0.3035690376162529\n",
      "Epoch 4, Batch 300, Loss: 0.32806106746196745\n",
      "Epoch 4, Batch 400, Loss: 0.3162780173122883\n",
      "Epoch 4, Batch 500, Loss: 0.3151619942486286\n",
      "Epoch 4, Batch 600, Loss: 0.3263470883667469\n",
      "Epoch 4, Batch 700, Loss: 0.32719863280653955\n",
      "Epoch 4, Batch 800, Loss: 0.30348284304142\n",
      "Epoch 4, Batch 900, Loss: 0.3299244572222233\n",
      "Epoch 5, Batch 100, Loss: 0.3088377048820257\n",
      "Epoch 5, Batch 200, Loss: 0.316403709128499\n",
      "Epoch 5, Batch 300, Loss: 0.29878819301724435\n",
      "Epoch 5, Batch 400, Loss: 0.30701160334050653\n",
      "Epoch 5, Batch 500, Loss: 0.3213288275152445\n",
      "Epoch 5, Batch 600, Loss: 0.3166789734363556\n",
      "Epoch 5, Batch 700, Loss: 0.31829910054802896\n",
      "Epoch 5, Batch 800, Loss: 0.32299512207508085\n",
      "Epoch 5, Batch 900, Loss: 0.2986996825039387\n",
      "Epoch 6, Batch 100, Loss: 0.2838846093416214\n",
      "Epoch 6, Batch 200, Loss: 0.29464274533092977\n",
      "Epoch 6, Batch 300, Loss: 0.29846483692526815\n",
      "Epoch 6, Batch 400, Loss: 0.3034676842391491\n",
      "Epoch 6, Batch 500, Loss: 0.3055309921503067\n",
      "Epoch 6, Batch 600, Loss: 0.30670459263026717\n",
      "Epoch 6, Batch 700, Loss: 0.28839053750038146\n",
      "Epoch 6, Batch 800, Loss: 0.2865668399631977\n",
      "Epoch 6, Batch 900, Loss: 0.28382505863904955\n",
      "Epoch 7, Batch 100, Loss: 0.3040927463769913\n",
      "Epoch 7, Batch 200, Loss: 0.27733916208148\n",
      "Epoch 7, Batch 300, Loss: 0.2842006349563599\n",
      "Epoch 7, Batch 400, Loss: 0.2956185683608055\n",
      "Epoch 7, Batch 500, Loss: 0.26791704177856446\n",
      "Epoch 7, Batch 600, Loss: 0.2731004936993122\n",
      "Epoch 7, Batch 700, Loss: 0.2840040444582701\n",
      "Epoch 7, Batch 800, Loss: 0.2886918543279171\n",
      "Epoch 7, Batch 900, Loss: 0.27607262052595616\n",
      "Epoch 8, Batch 100, Loss: 0.27404431082308295\n",
      "Epoch 8, Batch 200, Loss: 0.29174661479890346\n",
      "Epoch 8, Batch 300, Loss: 0.26958198837935926\n",
      "Epoch 8, Batch 400, Loss: 0.28661399565637113\n",
      "Epoch 8, Batch 500, Loss: 0.26354893621057274\n",
      "Epoch 8, Batch 600, Loss: 0.27346232332289216\n",
      "Epoch 8, Batch 700, Loss: 0.2722300924360752\n",
      "Epoch 8, Batch 800, Loss: 0.28052326701581476\n",
      "Epoch 8, Batch 900, Loss: 0.2681791713088751\n",
      "Epoch 9, Batch 100, Loss: 0.24497242949903011\n",
      "Epoch 9, Batch 200, Loss: 0.26323608711361884\n",
      "Epoch 9, Batch 300, Loss: 0.25937856070697307\n",
      "Epoch 9, Batch 400, Loss: 0.25726693250238897\n",
      "Epoch 9, Batch 500, Loss: 0.2731952755153179\n",
      "Epoch 9, Batch 600, Loss: 0.26602211728692055\n",
      "Epoch 9, Batch 700, Loss: 0.2734240755438805\n",
      "Epoch 9, Batch 800, Loss: 0.26889088392257693\n",
      "Epoch 9, Batch 900, Loss: 0.2620157649368048\n",
      "Epoch 10, Batch 100, Loss: 0.2668566791713238\n",
      "Epoch 10, Batch 200, Loss: 0.26752824559807775\n",
      "Epoch 10, Batch 300, Loss: 0.26305440232157706\n",
      "Epoch 10, Batch 400, Loss: 0.27068287529051305\n",
      "Epoch 10, Batch 500, Loss: 0.2560956822708249\n",
      "Epoch 10, Batch 600, Loss: 0.2558763288706541\n",
      "Epoch 10, Batch 700, Loss: 0.2561598625779152\n",
      "Epoch 10, Batch 800, Loss: 0.2508861007541418\n",
      "Epoch 10, Batch 900, Loss: 0.24125287048518657\n",
      "Epoch 11, Batch 100, Loss: 0.24981732308864593\n",
      "Epoch 11, Batch 200, Loss: 0.25764714010059836\n",
      "Epoch 11, Batch 300, Loss: 0.25055210046470167\n",
      "Epoch 11, Batch 400, Loss: 0.24594356670975684\n",
      "Epoch 11, Batch 500, Loss: 0.2329116839170456\n",
      "Epoch 11, Batch 600, Loss: 0.2550608567148447\n",
      "Epoch 11, Batch 700, Loss: 0.25771688744425775\n",
      "Epoch 11, Batch 800, Loss: 0.24922656401991844\n",
      "Epoch 11, Batch 900, Loss: 0.2639297576993704\n",
      "Epoch 12, Batch 100, Loss: 0.25637239798903466\n",
      "Epoch 12, Batch 200, Loss: 0.23307489030063153\n",
      "Epoch 12, Batch 300, Loss: 0.2475624393299222\n",
      "Epoch 12, Batch 400, Loss: 0.2353765519708395\n",
      "Epoch 12, Batch 500, Loss: 0.22103855326771737\n",
      "Epoch 12, Batch 600, Loss: 0.2611604245752096\n",
      "Epoch 12, Batch 700, Loss: 0.2353791470825672\n",
      "Epoch 12, Batch 800, Loss: 0.23315386720001696\n",
      "Epoch 12, Batch 900, Loss: 0.245338741093874\n",
      "Epoch 13, Batch 100, Loss: 0.24019487351179122\n",
      "Epoch 13, Batch 200, Loss: 0.2309591331705451\n",
      "Epoch 13, Batch 300, Loss: 0.2432644235342741\n",
      "Epoch 13, Batch 400, Loss: 0.2313664697855711\n",
      "Epoch 13, Batch 500, Loss: 0.22543114610016346\n",
      "Epoch 13, Batch 600, Loss: 0.23921281356364488\n",
      "Epoch 13, Batch 700, Loss: 0.245505845323205\n",
      "Epoch 13, Batch 800, Loss: 0.25575051762163636\n",
      "Epoch 13, Batch 900, Loss: 0.2680946342647076\n",
      "Epoch 14, Batch 100, Loss: 0.2223779135197401\n",
      "Epoch 14, Batch 200, Loss: 0.2255884462594986\n",
      "Epoch 14, Batch 300, Loss: 0.22413712151348592\n",
      "Epoch 14, Batch 400, Loss: 0.22018648501485585\n",
      "Epoch 14, Batch 500, Loss: 0.23617998918518424\n",
      "Epoch 14, Batch 600, Loss: 0.2442371777445078\n",
      "Epoch 14, Batch 700, Loss: 0.2353707589954138\n",
      "Epoch 14, Batch 800, Loss: 0.24247484058141708\n",
      "Epoch 14, Batch 900, Loss: 0.2481120801717043\n",
      "Epoch 15, Batch 100, Loss: 0.2476600104570389\n",
      "Epoch 15, Batch 200, Loss: 0.23018098752945662\n",
      "Epoch 15, Batch 300, Loss: 0.20190081879496574\n",
      "Epoch 15, Batch 400, Loss: 0.23360740378499031\n",
      "Epoch 15, Batch 500, Loss: 0.22493143655359746\n",
      "Epoch 15, Batch 600, Loss: 0.22467393383383752\n",
      "Epoch 15, Batch 700, Loss: 0.23489672154188157\n",
      "Epoch 15, Batch 800, Loss: 0.22663661688566208\n",
      "Epoch 15, Batch 900, Loss: 0.22106822416186334\n",
      "Epoch 16, Batch 100, Loss: 0.20753061063587666\n",
      "Epoch 16, Batch 200, Loss: 0.2118163925409317\n",
      "Epoch 16, Batch 300, Loss: 0.22460766453295947\n",
      "Epoch 16, Batch 400, Loss: 0.21251974686980246\n",
      "Epoch 16, Batch 500, Loss: 0.21809677094221114\n",
      "Epoch 16, Batch 600, Loss: 0.22305415958166122\n",
      "Epoch 16, Batch 700, Loss: 0.22543663822114468\n",
      "Epoch 16, Batch 800, Loss: 0.22023349501192568\n",
      "Epoch 16, Batch 900, Loss: 0.22183728724718094\n",
      "Epoch 17, Batch 100, Loss: 0.2003401853889227\n",
      "Epoch 17, Batch 200, Loss: 0.22240897662937642\n",
      "Epoch 17, Batch 300, Loss: 0.20527738630771636\n",
      "Epoch 17, Batch 400, Loss: 0.22933171279728412\n",
      "Epoch 17, Batch 500, Loss: 0.22936078608036042\n",
      "Epoch 17, Batch 600, Loss: 0.22304781585931777\n",
      "Epoch 17, Batch 700, Loss: 0.21555270723998546\n",
      "Epoch 17, Batch 800, Loss: 0.22307124853134155\n",
      "Epoch 17, Batch 900, Loss: 0.21338378943502903\n",
      "Epoch 18, Batch 100, Loss: 0.19738001618534326\n",
      "Epoch 18, Batch 200, Loss: 0.19050413206219674\n",
      "Epoch 18, Batch 300, Loss: 0.20683063574135305\n",
      "Epoch 18, Batch 400, Loss: 0.21161252841353417\n",
      "Epoch 18, Batch 500, Loss: 0.20722032234072685\n",
      "Epoch 18, Batch 600, Loss: 0.21230276588350536\n",
      "Epoch 18, Batch 700, Loss: 0.21118770003318788\n",
      "Epoch 18, Batch 800, Loss: 0.22068342909216881\n",
      "Epoch 18, Batch 900, Loss: 0.21051111549139023\n",
      "Epoch 19, Batch 100, Loss: 0.20123473297804595\n",
      "Epoch 19, Batch 200, Loss: 0.1975748872756958\n",
      "Epoch 19, Batch 300, Loss: 0.20457548789680005\n",
      "Epoch 19, Batch 400, Loss: 0.2049889688193798\n",
      "Epoch 19, Batch 500, Loss: 0.21631555914878844\n",
      "Epoch 19, Batch 600, Loss: 0.20877290613949298\n",
      "Epoch 19, Batch 700, Loss: 0.20453282244503498\n",
      "Epoch 19, Batch 800, Loss: 0.19931223660707473\n",
      "Epoch 19, Batch 900, Loss: 0.21511892154812812\n",
      "Epoch 20, Batch 100, Loss: 0.19474057603627443\n",
      "Epoch 20, Batch 200, Loss: 0.19522393733263016\n",
      "Epoch 20, Batch 300, Loss: 0.20522631730884314\n",
      "Epoch 20, Batch 400, Loss: 0.19911136653274297\n",
      "Epoch 20, Batch 500, Loss: 0.2170974040031433\n",
      "Epoch 20, Batch 600, Loss: 0.20094251424074172\n",
      "Epoch 20, Batch 700, Loss: 0.20421581022441387\n",
      "Epoch 20, Batch 800, Loss: 0.22642329581081866\n",
      "Epoch 20, Batch 900, Loss: 0.20422435898333788\n",
      "Epoch 21, Batch 100, Loss: 0.19315867561846972\n",
      "Epoch 21, Batch 200, Loss: 0.19566417001187802\n",
      "Epoch 21, Batch 300, Loss: 0.18650963265448808\n",
      "Epoch 21, Batch 400, Loss: 0.1855128340050578\n",
      "Epoch 21, Batch 500, Loss: 0.19778549000620843\n",
      "Epoch 21, Batch 600, Loss: 0.21550883680582048\n",
      "Epoch 21, Batch 700, Loss: 0.19567976836115122\n",
      "Epoch 21, Batch 800, Loss: 0.19413359865546226\n",
      "Epoch 21, Batch 900, Loss: 0.19962233237922192\n",
      "Epoch 22, Batch 100, Loss: 0.19494038049131632\n",
      "Epoch 22, Batch 200, Loss: 0.187799184396863\n",
      "Epoch 22, Batch 300, Loss: 0.18080638468265534\n",
      "Epoch 22, Batch 400, Loss: 0.18569236773997544\n",
      "Epoch 22, Batch 500, Loss: 0.19502530060708523\n",
      "Epoch 22, Batch 600, Loss: 0.2027067367732525\n",
      "Epoch 22, Batch 700, Loss: 0.21250334665179252\n",
      "Epoch 22, Batch 800, Loss: 0.20186619699001312\n",
      "Epoch 22, Batch 900, Loss: 0.19543917935341595\n",
      "Epoch 23, Batch 100, Loss: 0.17330639835447073\n",
      "Epoch 23, Batch 200, Loss: 0.1847006380558014\n",
      "Epoch 23, Batch 300, Loss: 0.19308319874107838\n",
      "Epoch 23, Batch 400, Loss: 0.19063947722315788\n",
      "Epoch 23, Batch 500, Loss: 0.17691735558211805\n",
      "Epoch 23, Batch 600, Loss: 0.18483161684125662\n",
      "Epoch 23, Batch 700, Loss: 0.1758821017295122\n",
      "Epoch 23, Batch 800, Loss: 0.1858031637594104\n",
      "Epoch 23, Batch 900, Loss: 0.1946047820523381\n",
      "Epoch 24, Batch 100, Loss: 0.1759954336285591\n",
      "Epoch 24, Batch 200, Loss: 0.19035142462700605\n",
      "Epoch 24, Batch 300, Loss: 0.16636886540800333\n",
      "Epoch 24, Batch 400, Loss: 0.17507570896297694\n",
      "Epoch 24, Batch 500, Loss: 0.18641989395022393\n",
      "Epoch 24, Batch 600, Loss: 0.19885489527136088\n",
      "Epoch 24, Batch 700, Loss: 0.18760939605534077\n",
      "Epoch 24, Batch 800, Loss: 0.19080747626721858\n",
      "Epoch 24, Batch 900, Loss: 0.1967124777659774\n",
      "Epoch 25, Batch 100, Loss: 0.1847157594934106\n",
      "Epoch 25, Batch 200, Loss: 0.18103204037994147\n",
      "Epoch 25, Batch 300, Loss: 0.20256442695856094\n",
      "Epoch 25, Batch 400, Loss: 0.17667026579380035\n",
      "Epoch 25, Batch 500, Loss: 0.1636608871817589\n",
      "Epoch 25, Batch 600, Loss: 0.17150074891746045\n",
      "Epoch 25, Batch 700, Loss: 0.1741941460967064\n",
      "Epoch 25, Batch 800, Loss: 0.1905792335420847\n",
      "Epoch 25, Batch 900, Loss: 0.18039471633732318\n",
      "Epoch 26, Batch 100, Loss: 0.17684235084801914\n",
      "Epoch 26, Batch 200, Loss: 0.1703461617603898\n",
      "Epoch 26, Batch 300, Loss: 0.17744662646204235\n",
      "Epoch 26, Batch 400, Loss: 0.18492318756878376\n",
      "Epoch 26, Batch 500, Loss: 0.16647447234019638\n",
      "Epoch 26, Batch 600, Loss: 0.159191361553967\n",
      "Epoch 26, Batch 700, Loss: 0.14677227154374123\n",
      "Epoch 26, Batch 800, Loss: 0.19064710792154074\n",
      "Epoch 26, Batch 900, Loss: 0.1846039339900017\n",
      "Epoch 27, Batch 100, Loss: 0.15933877147734166\n",
      "Epoch 27, Batch 200, Loss: 0.17729172974824906\n",
      "Epoch 27, Batch 300, Loss: 0.16495272498577834\n",
      "Epoch 27, Batch 400, Loss: 0.17635412260890007\n",
      "Epoch 27, Batch 500, Loss: 0.1726432129740715\n",
      "Epoch 27, Batch 600, Loss: 0.17523995127528905\n",
      "Epoch 27, Batch 700, Loss: 0.17756392199546098\n",
      "Epoch 27, Batch 800, Loss: 0.17153876211494207\n",
      "Epoch 27, Batch 900, Loss: 0.18290187563747168\n",
      "Epoch 28, Batch 100, Loss: 0.15939442940056325\n",
      "Epoch 28, Batch 200, Loss: 0.1660845692642033\n",
      "Epoch 28, Batch 300, Loss: 0.16253965482115745\n",
      "Epoch 28, Batch 400, Loss: 0.16154429748654364\n",
      "Epoch 28, Batch 500, Loss: 0.17210747826844452\n",
      "Epoch 28, Batch 600, Loss: 0.1739950677007437\n",
      "Epoch 28, Batch 700, Loss: 0.1820777290686965\n",
      "Epoch 28, Batch 800, Loss: 0.15966541089117528\n",
      "Epoch 28, Batch 900, Loss: 0.1844446986168623\n",
      "Epoch 29, Batch 100, Loss: 0.15614937976002694\n",
      "Epoch 29, Batch 200, Loss: 0.17130941163748503\n",
      "Epoch 29, Batch 300, Loss: 0.17037649407982827\n",
      "Epoch 29, Batch 400, Loss: 0.1589592208713293\n",
      "Epoch 29, Batch 500, Loss: 0.1616502839140594\n",
      "Epoch 29, Batch 600, Loss: 0.16365733403712512\n",
      "Epoch 29, Batch 700, Loss: 0.16517659071832896\n",
      "Epoch 29, Batch 800, Loss: 0.17339450219646096\n",
      "Epoch 29, Batch 900, Loss: 0.16523757334798575\n",
      "Epoch 30, Batch 100, Loss: 0.15316700097173452\n",
      "Epoch 30, Batch 200, Loss: 0.1663806464523077\n",
      "Epoch 30, Batch 300, Loss: 0.16028621595352888\n",
      "Epoch 30, Batch 400, Loss: 0.17359258517622947\n",
      "Epoch 30, Batch 500, Loss: 0.16048172879964112\n",
      "Epoch 30, Batch 600, Loss: 0.15591843981295825\n",
      "Epoch 30, Batch 700, Loss: 0.16302237890660762\n",
      "Epoch 30, Batch 800, Loss: 0.1807390109077096\n",
      "Epoch 30, Batch 900, Loss: 0.16210172034800052\n",
      "Epoch 31, Batch 100, Loss: 0.1353524509072304\n",
      "Epoch 31, Batch 200, Loss: 0.15810118602588774\n",
      "Epoch 31, Batch 300, Loss: 0.14995840489864348\n",
      "Epoch 31, Batch 400, Loss: 0.17112264063209295\n",
      "Epoch 31, Batch 500, Loss: 0.1692674581333995\n",
      "Epoch 31, Batch 600, Loss: 0.14963160648941995\n",
      "Epoch 31, Batch 700, Loss: 0.16547657795250414\n",
      "Epoch 31, Batch 800, Loss: 0.17682942256331444\n",
      "Epoch 31, Batch 900, Loss: 0.16789871275424958\n",
      "Epoch 32, Batch 100, Loss: 0.1565292814001441\n",
      "Epoch 32, Batch 200, Loss: 0.15910101734101773\n",
      "Epoch 32, Batch 300, Loss: 0.1459041500836611\n",
      "Epoch 32, Batch 400, Loss: 0.16139486245810986\n",
      "Epoch 32, Batch 500, Loss: 0.15929922558367252\n",
      "Epoch 32, Batch 600, Loss: 0.1772362059354782\n",
      "Epoch 32, Batch 700, Loss: 0.15923712346702815\n",
      "Epoch 32, Batch 800, Loss: 0.15200765404850244\n",
      "Epoch 32, Batch 900, Loss: 0.16199873793870212\n",
      "Epoch 33, Batch 100, Loss: 0.13858708560466768\n",
      "Epoch 33, Batch 200, Loss: 0.15904803436249496\n",
      "Epoch 33, Batch 300, Loss: 0.15052074916660785\n",
      "Epoch 33, Batch 400, Loss: 0.15471002358943223\n",
      "Epoch 33, Batch 500, Loss: 0.15024329092353583\n",
      "Epoch 33, Batch 600, Loss: 0.1582394302263856\n",
      "Epoch 33, Batch 700, Loss: 0.16158339336514474\n",
      "Epoch 33, Batch 800, Loss: 0.14987101443111897\n",
      "Epoch 33, Batch 900, Loss: 0.14602124489843846\n",
      "Epoch 34, Batch 100, Loss: 0.1429603335261345\n",
      "Epoch 34, Batch 200, Loss: 0.15274651654064655\n",
      "Epoch 34, Batch 300, Loss: 0.1441976863052696\n",
      "Epoch 34, Batch 400, Loss: 0.13694291267544031\n",
      "Epoch 34, Batch 500, Loss: 0.14599208522588014\n",
      "Epoch 34, Batch 600, Loss: 0.15667837627232076\n",
      "Epoch 34, Batch 700, Loss: 0.14808888684958219\n",
      "Epoch 34, Batch 800, Loss: 0.15131971951574086\n",
      "Epoch 34, Batch 900, Loss: 0.1563226553797722\n",
      "Epoch 35, Batch 100, Loss: 0.14519681129604578\n",
      "Epoch 35, Batch 200, Loss: 0.13602611523121597\n",
      "Epoch 35, Batch 300, Loss: 0.13119331873953344\n",
      "Epoch 35, Batch 400, Loss: 0.13809591813012959\n",
      "Epoch 35, Batch 500, Loss: 0.1344249798730016\n",
      "Epoch 35, Batch 600, Loss: 0.16203026900067927\n",
      "Epoch 35, Batch 700, Loss: 0.1368439044058323\n",
      "Epoch 35, Batch 800, Loss: 0.14774396596476436\n",
      "Epoch 35, Batch 900, Loss: 0.16230983613058925\n",
      "Finished Training\n",
      "Training finished in 220.15907764434814 seconds\n"
     ]
    }
   ],
   "source": [
    "# Loss function and optimizer\n",
    "criterion = nn.CrossEntropyLoss()\n",
    "optimizer = optim.Adam(model.parameters(), lr=0.002) \n",
    "\n",
    "# Training the neural network\n",
    "num_epochs = 35\n",
    "\n",
    "# Start timing\n",
    "start_time = time.time()\n",
    "for epoch in range(num_epochs):\n",
    "    model.train()\n",
    "    running_loss = 0.0\n",
    "    for i, data in enumerate(train_loader, 0):\n",
    "        inputs, labels = data\n",
    "        optimizer.zero_grad()\n",
    "        outputs = model(inputs)\n",
    "        loss = criterion(outputs, labels)\n",
    "        loss.backward()\n",
    "        optimizer.step()\n",
    "        running_loss += loss.item()\n",
    "        if i % 100 == 99:  # print every 100 mini-batches\n",
    "            print(f'Epoch {epoch + 1}, Batch {i + 1}, Loss: {running_loss / 100}')\n",
    "            running_loss = 0.0\n",
    "\n",
    "# End timing\n",
    "end_time = time.time()\n",
    "\n",
    "print('Finished Training')\n",
    "print(f'Training finished in {end_time - start_time} seconds')"
   ]
  },
  {
   "cell_type": "code",
   "execution_count": 56,
   "metadata": {
    "id": "RNMCpk60EaXr"
   },
   "outputs": [
    {
     "name": "stdout",
     "output_type": "stream",
     "text": [
      "Accuracy on test set: 0.8836%\n"
     ]
    }
   ],
   "source": [
    "# Evaluating the model\n",
    "model.eval()\n",
    "correct = 0\n",
    "total = 0\n",
    "with torch.no_grad():\n",
    "    for data in test_loader:\n",
    "        images, labels = data\n",
    "        outputs = model(images)\n",
    "        _, predicted = torch.max(outputs.data, 1)\n",
    "        total += labels.size(0)\n",
    "        correct += (predicted == labels).sum().item()\n",
    "\n",
    "print(f'Accuracy on test set: { correct / total}%')"
   ]
  },
  {
   "cell_type": "code",
   "execution_count": 57,
   "metadata": {
    "id": "J2GkmLeQEeZV"
   },
   "outputs": [
    {
     "data": {
      "image/png": "[encoded data removed]",
      "text/plain": [
       "<Figure size 640x480 with 1 Axes>"
      ]
     },
     "metadata": {},
     "output_type": "display_data"
    }
   ],
   "source": [
    "image_index = 27\n",
    "test_image, test_label = test_dataset[image_index]\n",
    "\n",
    "with torch.no_grad():\n",
    "    model.eval()\n",
    "    output = model(test_image.unsqueeze(0))\n",
    "    _, predicted_label = torch.max(output, 1)\n",
    "\n",
    "test_image_numpy = test_image.squeeze().numpy()\n",
    "\n",
    "plt.imshow(test_image_numpy, cmap='gray')\n",
    "plt.title(f'Predicted Label: {predicted_label.item()}, Actual Label: {test_label}')\n",
    "plt.axis('off')\n",
    "plt.show()"
   ]
  },
  {
   "cell_type": "markdown",
   "metadata": {
    "id": "FoypxOXgGjuC"
   },
   "source": [
    "Notes for Part 1\n",
    "\n",
    "1. Activation fucntion:\n",
    "\n",
    "class Net(torch.nn.Module):\n",
    "    def __init__(self):\n",
    "        super(Net, self).__init__()\n",
    "        self.fc1 = torch.nn.Linear(28*28, 128)\n",
    "        self.fc2 = torch.nn.Linear(128, 64)\n",
    "        self.fc3 = torch.nn.Linear(64, 10)\n",
    "\n",
    "    def forward(self, x):\n",
    "        x = x.view(-1, 28*28)\n",
    "        x = torch.relu(self.fc1(x))  # Change activation function here\n",
    "        x = torch.relu(self.fc2(x))\n",
    "        x = self.fc3(x)\n",
    "        return x\n",
    "\n",
    "2. loss function and optimizer\n",
    "\n",
    "model = Net()\n",
    "criterion = torch.nn.CrossEntropyLoss()  # Change loss function\n",
    "optimizer = torch.optim.Adam(model.parameters(), lr=0.001)\n",
    "\n",
    "3. ~adding a dropout layer\n",
    "\n",
    "class Net(torch.nn.Module):\n",
    "    def __init__(self):\n",
    "        super(Net, self).__init__()\n",
    "        self.fc1 = torch.nn.Linear(28*28, 128)\n",
    "        self.dropout = torch.nn.Dropout(0.2)  # Add a Dropout layer here\n",
    "        self.fc2 = torch.nn.Linear(128, 64)\n",
    "        self.fc3 = torch.nn.Linear(64, 10)\n",
    "\n",
    "    def forward(self, x):\n",
    "        x = x.view(-1, 28*28)\n",
    "        x = torch.relu(self.fc1(x))\n",
    "        x = self.dropout(x)  # Apply Dropout\n",
    "        x = torch.relu(self.fc2(x))\n",
    "        x = self.fc3(x)\n",
    "        return x\n",
    "\n",
    "4. model configurations / epochs\n",
    "\n",
    "epochs = 10  # Change number of epochs\n",
    "for epoch in range(epochs):\n",
    "    # Training loop\n",
    "    for i, data in enumerate(train_loader, 0):\n",
    "        # Training steps"
   ]
  },
  {
   "cell_type": "markdown",
   "metadata": {
    "id": "K5nxrEoAHAUX"
   },
   "source": [
    "## CNN Implimentation with Keras"
   ]
  },
  {
   "cell_type": "code",
   "execution_count": 58,
   "metadata": {
    "id": "ccRJi8VXH3_O"
   },
   "outputs": [],
   "source": [
    "import keras\n",
    "from keras.datasets import fashion_mnist\n",
    "from keras.models import Sequential\n",
    "from keras.layers import Dense, Flatten\n",
    "from keras.optimizers import SGD\n",
    "from keras.utils import to_categorical\n",
    "import numpy as np"
   ]
  },
  {
   "cell_type": "code",
   "execution_count": 59,
   "metadata": {
    "id": "k41uN-aAIH6Y"
   },
   "outputs": [],
   "source": [
    "# Mapping the labels for the MNIST dataset\n",
    "labels_map = {\n",
    "    0: \"0\", 1: \"1\", 2: \"2\", 3: \"3\", 4: \"4\",\n",
    "    5: \"5\", 6: \"6\", 7: \"7\", 8: \"8\", 9: \"9\"\n",
    "}"
   ]
  },
  {
   "cell_type": "code",
   "execution_count": 60,
   "metadata": {
    "id": "4_MUVyZ5Iksr"
   },
   "outputs": [],
   "source": [
    "# Load and preprocess the data\n",
    "(x_train, y_train), (x_test, y_test) = fashion_mnist.load_data()\n",
    "x_train = x_train / 255.0\n",
    "x_test = x_test / 255.0\n",
    "y_train = to_categorical(y_train)\n",
    "y_test = to_categorical(y_test)"
   ]
  },
  {
   "cell_type": "code",
   "execution_count": 61,
   "metadata": {
    "id": "AEoqWEFz5Ms-"
   },
   "outputs": [],
   "source": [
    "(x_train, y_train), (x_test, y_test) = fashion_mnist.load_data()\n",
    "\n",
    "# Preprocess the data\n",
    "x_train = x_train.reshape(x_train.shape[0], 28, 28, 1).astype('float32') / 255\n",
    "x_test = x_test.reshape(x_test.shape[0], 28, 28, 1).astype('float32') / 255\n",
    "\n",
    "# Convert labels to one-hot encoding\n",
    "y_train = to_categorical(y_train, 10)\n",
    "y_test = to_categorical(y_test, 10)"
   ]
  },
  {
   "cell_type": "code",
   "execution_count": 62,
   "metadata": {
    "id": "eX_tkHuwEK7B"
   },
   "outputs": [],
   "source": [
    "model = Sequential([\n",
    "    Flatten(input_shape=(28, 28)),\n",
    "    Dense(256, activation='relu'),\n",
    "    Dense(128, activation='relu'),\n",
    "    Dense(64, activation='relu'),\n",
    "    Dense(10, activation='softmax')\n",
    "])"
   ]
  },
  {
   "cell_type": "code",
   "execution_count": 63,
   "metadata": {
    "id": "7l92S_RxJZTm"
   },
   "outputs": [],
   "source": [
    "def create_model(num_layers=2, units_per_layer=128, activation='relu'):\n",
    "    model = Sequential()\n",
    "    model.add(Flatten(input_shape=(28, 28)))\n",
    "\n",
    "    for _ in range(num_layers):\n",
    "        model.add(Dense(units_per_layer, activation=activation))\n",
    "\n",
    "    model.add(Dense(10, activation='softmax'))\n",
    "\n",
    "    return model"
   ]
  },
  {
   "cell_type": "code",
   "execution_count": 64,
   "metadata": {
    "id": "nPfHtKytJd9Q"
   },
   "outputs": [],
   "source": [
    "num_layers = 6\n",
    "units_per_layer = 256\n",
    "activation = 'relu'\n",
    "learning_rate = 0.01\n",
    "epochs = 75\n",
    "batch_size = 48\n",
    "\n",
    "# Create the model\n",
    "model = create_model(num_layers=num_layers, units_per_layer=units_per_layer, activation=activation)\n",
    "\n",
    "# Compile the model\n",
    "model.compile(optimizer=SGD(learning_rate=learning_rate),\n",
    "              loss='categorical_crossentropy',\n",
    "              metrics=['accuracy'])"
   ]
  },
  {
   "cell_type": "code",
   "execution_count": 65,
   "metadata": {
    "id": "JlPkc9auJkET"
   },
   "outputs": [
    {
     "name": "stdout",
     "output_type": "stream",
     "text": [
      "Epoch 1/75\n",
      "\u001b[1m1250/1250\u001b[0m \u001b[32m━━━━━━━━━━━━━━━━━━━━\u001b[0m\u001b[37m\u001b[0m \u001b[1m2s\u001b[0m 2ms/step - accuracy: 0.5552 - loss: 1.3828\n",
      "Epoch 2/75\n",
      "\u001b[1m1250/1250\u001b[0m \u001b[32m━━━━━━━━━━━━━━━━━━━━\u001b[0m\u001b[37m\u001b[0m \u001b[1m2s\u001b[0m 2ms/step - accuracy: 0.8097 - loss: 0.5368\n",
      "Epoch 3/75\n",
      "\u001b[1m1250/1250\u001b[0m \u001b[32m━━━━━━━━━━━━━━━━━━━━\u001b[0m\u001b[37m\u001b[0m \u001b[1m2s\u001b[0m 1ms/step - accuracy: 0.8354 - loss: 0.4623\n",
      "Epoch 4/75\n",
      "\u001b[1m1250/1250\u001b[0m \u001b[32m━━━━━━━━━━━━━━━━━━━━\u001b[0m\u001b[37m\u001b[0m \u001b[1m2s\u001b[0m 1ms/step - accuracy: 0.8464 - loss: 0.4220\n",
      "Epoch 5/75\n",
      "\u001b[1m1250/1250\u001b[0m \u001b[32m━━━━━━━━━━━━━━━━━━━━\u001b[0m\u001b[37m\u001b[0m \u001b[1m2s\u001b[0m 1ms/step - accuracy: 0.8593 - loss: 0.3893\n",
      "Epoch 6/75\n",
      "\u001b[1m1250/1250\u001b[0m \u001b[32m━━━━━━━━━━━━━━━━━━━━\u001b[0m\u001b[37m\u001b[0m \u001b[1m2s\u001b[0m 1ms/step - accuracy: 0.8663 - loss: 0.3688\n",
      "Epoch 7/75\n",
      "\u001b[1m1250/1250\u001b[0m \u001b[32m━━━━━━━━━━━━━━━━━━━━\u001b[0m\u001b[37m\u001b[0m \u001b[1m2s\u001b[0m 1ms/step - accuracy: 0.8722 - loss: 0.3443\n",
      "Epoch 8/75\n",
      "\u001b[1m1250/1250\u001b[0m \u001b[32m━━━━━━━━━━━━━━━━━━━━\u001b[0m\u001b[37m\u001b[0m \u001b[1m2s\u001b[0m 1ms/step - accuracy: 0.8799 - loss: 0.3287\n",
      "Epoch 9/75\n",
      "\u001b[1m1250/1250\u001b[0m \u001b[32m━━━━━━━━━━━━━━━━━━━━\u001b[0m\u001b[37m\u001b[0m \u001b[1m2s\u001b[0m 1ms/step - accuracy: 0.8817 - loss: 0.3209\n",
      "Epoch 10/75\n",
      "\u001b[1m1250/1250\u001b[0m \u001b[32m━━━━━━━━━━━━━━━━━━━━\u001b[0m\u001b[37m\u001b[0m \u001b[1m2s\u001b[0m 1ms/step - accuracy: 0.8862 - loss: 0.3080\n",
      "Epoch 11/75\n",
      "\u001b[1m1250/1250\u001b[0m \u001b[32m━━━━━━━━━━━━━━━━━━━━\u001b[0m\u001b[37m\u001b[0m \u001b[1m2s\u001b[0m 1ms/step - accuracy: 0.8925 - loss: 0.2957\n",
      "Epoch 12/75\n",
      "\u001b[1m1250/1250\u001b[0m \u001b[32m━━━━━━━━━━━━━━━━━━━━\u001b[0m\u001b[37m\u001b[0m \u001b[1m2s\u001b[0m 1ms/step - accuracy: 0.8921 - loss: 0.2936\n",
      "Epoch 13/75\n",
      "\u001b[1m1250/1250\u001b[0m \u001b[32m━━━━━━━━━━━━━━━━━━━━\u001b[0m\u001b[37m\u001b[0m \u001b[1m2s\u001b[0m 1ms/step - accuracy: 0.8972 - loss: 0.2777\n",
      "Epoch 14/75\n",
      "\u001b[1m1250/1250\u001b[0m \u001b[32m━━━━━━━━━━━━━━━━━━━━\u001b[0m\u001b[37m\u001b[0m \u001b[1m2s\u001b[0m 1ms/step - accuracy: 0.8992 - loss: 0.2747\n",
      "Epoch 15/75\n",
      "\u001b[1m1250/1250\u001b[0m \u001b[32m━━━━━━━━━━━━━━━━━━━━\u001b[0m\u001b[37m\u001b[0m \u001b[1m2s\u001b[0m 1ms/step - accuracy: 0.8988 - loss: 0.2663\n",
      "Epoch 16/75\n",
      "\u001b[1m1250/1250\u001b[0m \u001b[32m━━━━━━━━━━━━━━━━━━━━\u001b[0m\u001b[37m\u001b[0m \u001b[1m2s\u001b[0m 1ms/step - accuracy: 0.9068 - loss: 0.2568\n",
      "Epoch 17/75\n",
      "\u001b[1m1250/1250\u001b[0m \u001b[32m━━━━━━━━━━━━━━━━━━━━\u001b[0m\u001b[37m\u001b[0m \u001b[1m2s\u001b[0m 1ms/step - accuracy: 0.9088 - loss: 0.2497\n",
      "Epoch 18/75\n",
      "\u001b[1m1250/1250\u001b[0m \u001b[32m━━━━━━━━━━━━━━━━━━━━\u001b[0m\u001b[37m\u001b[0m \u001b[1m2s\u001b[0m 1ms/step - accuracy: 0.9099 - loss: 0.2423\n",
      "Epoch 19/75\n",
      "\u001b[1m1250/1250\u001b[0m \u001b[32m━━━━━━━━━━━━━━━━━━━━\u001b[0m\u001b[37m\u001b[0m \u001b[1m2s\u001b[0m 1ms/step - accuracy: 0.9099 - loss: 0.2394\n",
      "Epoch 20/75\n",
      "\u001b[1m1250/1250\u001b[0m \u001b[32m━━━━━━━━━━━━━━━━━━━━\u001b[0m\u001b[37m\u001b[0m \u001b[1m2s\u001b[0m 1ms/step - accuracy: 0.9129 - loss: 0.2327\n",
      "Epoch 21/75\n",
      "\u001b[1m1250/1250\u001b[0m \u001b[32m━━━━━━━━━━━━━━━━━━━━\u001b[0m\u001b[37m\u001b[0m \u001b[1m2s\u001b[0m 1ms/step - accuracy: 0.9162 - loss: 0.2248\n",
      "Epoch 22/75\n",
      "\u001b[1m1250/1250\u001b[0m \u001b[32m━━━━━━━━━━━━━━━━━━━━\u001b[0m\u001b[37m\u001b[0m \u001b[1m2s\u001b[0m 1ms/step - accuracy: 0.9171 - loss: 0.2202\n",
      "Epoch 23/75\n",
      "\u001b[1m1250/1250\u001b[0m \u001b[32m━━━━━━━━━━━━━━━━━━━━\u001b[0m\u001b[37m\u001b[0m \u001b[1m2s\u001b[0m 1ms/step - accuracy: 0.9188 - loss: 0.2153\n",
      "Epoch 24/75\n",
      "\u001b[1m1250/1250\u001b[0m \u001b[32m━━━━━━━━━━━━━━━━━━━━\u001b[0m\u001b[37m\u001b[0m \u001b[1m2s\u001b[0m 1ms/step - accuracy: 0.9216 - loss: 0.2095\n",
      "Epoch 25/75\n",
      "\u001b[1m1250/1250\u001b[0m \u001b[32m━━━━━━━━━━━━━━━━━━━━\u001b[0m\u001b[37m\u001b[0m \u001b[1m2s\u001b[0m 1ms/step - accuracy: 0.9238 - loss: 0.2065\n",
      "Epoch 26/75\n",
      "\u001b[1m1250/1250\u001b[0m \u001b[32m━━━━━━━━━━━━━━━━━━━━\u001b[0m\u001b[37m\u001b[0m \u001b[1m2s\u001b[0m 1ms/step - accuracy: 0.9251 - loss: 0.2015\n",
      "Epoch 27/75\n",
      "\u001b[1m1250/1250\u001b[0m \u001b[32m━━━━━━━━━━━━━━━━━━━━\u001b[0m\u001b[37m\u001b[0m \u001b[1m2s\u001b[0m 1ms/step - accuracy: 0.9280 - loss: 0.1952\n",
      "Epoch 28/75\n",
      "\u001b[1m1250/1250\u001b[0m \u001b[32m━━━━━━━━━━━━━━━━━━━━\u001b[0m\u001b[37m\u001b[0m \u001b[1m2s\u001b[0m 1ms/step - accuracy: 0.9266 - loss: 0.1960\n",
      "Epoch 29/75\n",
      "\u001b[1m1250/1250\u001b[0m \u001b[32m━━━━━━━━━━━━━━━━━━━━\u001b[0m\u001b[37m\u001b[0m \u001b[1m2s\u001b[0m 1ms/step - accuracy: 0.9323 - loss: 0.1841\n",
      "Epoch 30/75\n",
      "\u001b[1m1250/1250\u001b[0m \u001b[32m━━━━━━━━━━━━━━━━━━━━\u001b[0m\u001b[37m\u001b[0m \u001b[1m2s\u001b[0m 1ms/step - accuracy: 0.9314 - loss: 0.1878\n",
      "Epoch 31/75\n",
      "\u001b[1m1250/1250\u001b[0m \u001b[32m━━━━━━━━━━━━━━━━━━━━\u001b[0m\u001b[37m\u001b[0m \u001b[1m2s\u001b[0m 1ms/step - accuracy: 0.9326 - loss: 0.1790\n",
      "Epoch 32/75\n",
      "\u001b[1m1250/1250\u001b[0m \u001b[32m━━━━━━━━━━━━━━━━━━━━\u001b[0m\u001b[37m\u001b[0m \u001b[1m2s\u001b[0m 2ms/step - accuracy: 0.9349 - loss: 0.1768\n",
      "Epoch 33/75\n",
      "\u001b[1m1250/1250\u001b[0m \u001b[32m━━━━━━━━━━━━━━━━━━━━\u001b[0m\u001b[37m\u001b[0m \u001b[1m2s\u001b[0m 1ms/step - accuracy: 0.9354 - loss: 0.1720\n",
      "Epoch 34/75\n",
      "\u001b[1m1250/1250\u001b[0m \u001b[32m━━━━━━━━━━━━━━━━━━━━\u001b[0m\u001b[37m\u001b[0m \u001b[1m2s\u001b[0m 1ms/step - accuracy: 0.9380 - loss: 0.1655\n",
      "Epoch 35/75\n",
      "\u001b[1m1250/1250\u001b[0m \u001b[32m━━━━━━━━━━━━━━━━━━━━\u001b[0m\u001b[37m\u001b[0m \u001b[1m2s\u001b[0m 1ms/step - accuracy: 0.9394 - loss: 0.1633\n",
      "Epoch 36/75\n",
      "\u001b[1m1250/1250\u001b[0m \u001b[32m━━━━━━━━━━━━━━━━━━━━\u001b[0m\u001b[37m\u001b[0m \u001b[1m2s\u001b[0m 2ms/step - accuracy: 0.9416 - loss: 0.1575\n",
      "Epoch 37/75\n",
      "\u001b[1m1250/1250\u001b[0m \u001b[32m━━━━━━━━━━━━━━━━━━━━\u001b[0m\u001b[37m\u001b[0m \u001b[1m2s\u001b[0m 1ms/step - accuracy: 0.9440 - loss: 0.1511\n",
      "Epoch 38/75\n",
      "\u001b[1m1250/1250\u001b[0m \u001b[32m━━━━━━━━━━━━━━━━━━━━\u001b[0m\u001b[37m\u001b[0m \u001b[1m2s\u001b[0m 1ms/step - accuracy: 0.9451 - loss: 0.1474\n",
      "Epoch 39/75\n",
      "\u001b[1m1250/1250\u001b[0m \u001b[32m━━━━━━━━━━━━━━━━━━━━\u001b[0m\u001b[37m\u001b[0m \u001b[1m2s\u001b[0m 1ms/step - accuracy: 0.9458 - loss: 0.1449\n",
      "Epoch 40/75\n",
      "\u001b[1m1250/1250\u001b[0m \u001b[32m━━━━━━━━━━━━━━━━━━━━\u001b[0m\u001b[37m\u001b[0m \u001b[1m2s\u001b[0m 2ms/step - accuracy: 0.9487 - loss: 0.1386\n",
      "Epoch 41/75\n",
      "\u001b[1m1250/1250\u001b[0m \u001b[32m━━━━━━━━━━━━━━━━━━━━\u001b[0m\u001b[37m\u001b[0m \u001b[1m2s\u001b[0m 1ms/step - accuracy: 0.9496 - loss: 0.1369\n",
      "Epoch 42/75\n",
      "\u001b[1m1250/1250\u001b[0m \u001b[32m━━━━━━━━━━━━━━━━━━━━\u001b[0m\u001b[37m\u001b[0m \u001b[1m2s\u001b[0m 1ms/step - accuracy: 0.9488 - loss: 0.1370\n",
      "Epoch 43/75\n",
      "\u001b[1m1250/1250\u001b[0m \u001b[32m━━━━━━━━━━━━━━━━━━━━\u001b[0m\u001b[37m\u001b[0m \u001b[1m2s\u001b[0m 2ms/step - accuracy: 0.9514 - loss: 0.1314\n",
      "Epoch 44/75\n",
      "\u001b[1m1250/1250\u001b[0m \u001b[32m━━━━━━━━━━━━━━━━━━━━\u001b[0m\u001b[37m\u001b[0m \u001b[1m2s\u001b[0m 1ms/step - accuracy: 0.9537 - loss: 0.1259\n",
      "Epoch 45/75\n",
      "\u001b[1m1250/1250\u001b[0m \u001b[32m━━━━━━━━━━━━━━━━━━━━\u001b[0m\u001b[37m\u001b[0m \u001b[1m2s\u001b[0m 1ms/step - accuracy: 0.9543 - loss: 0.1261\n",
      "Epoch 46/75\n",
      "\u001b[1m1250/1250\u001b[0m \u001b[32m━━━━━━━━━━━━━━━━━━━━\u001b[0m\u001b[37m\u001b[0m \u001b[1m2s\u001b[0m 1ms/step - accuracy: 0.9555 - loss: 0.1196\n",
      "Epoch 47/75\n",
      "\u001b[1m1250/1250\u001b[0m \u001b[32m━━━━━━━━━━━━━━━━━━━━\u001b[0m\u001b[37m\u001b[0m \u001b[1m2s\u001b[0m 2ms/step - accuracy: 0.9568 - loss: 0.1182\n",
      "Epoch 48/75\n",
      "\u001b[1m1250/1250\u001b[0m \u001b[32m━━━━━━━━━━━━━━━━━━━━\u001b[0m\u001b[37m\u001b[0m \u001b[1m2s\u001b[0m 1ms/step - accuracy: 0.9571 - loss: 0.1137\n",
      "Epoch 49/75\n",
      "\u001b[1m1250/1250\u001b[0m \u001b[32m━━━━━━━━━━━━━━━━━━━━\u001b[0m\u001b[37m\u001b[0m \u001b[1m2s\u001b[0m 1ms/step - accuracy: 0.9584 - loss: 0.1113\n",
      "Epoch 50/75\n",
      "\u001b[1m1250/1250\u001b[0m \u001b[32m━━━━━━━━━━━━━━━━━━━━\u001b[0m\u001b[37m\u001b[0m \u001b[1m2s\u001b[0m 1ms/step - accuracy: 0.9589 - loss: 0.1115\n",
      "Epoch 51/75\n",
      "\u001b[1m1250/1250\u001b[0m \u001b[32m━━━━━━━━━━━━━━━━━━━━\u001b[0m\u001b[37m\u001b[0m \u001b[1m2s\u001b[0m 1ms/step - accuracy: 0.9613 - loss: 0.1052\n",
      "Epoch 52/75\n",
      "\u001b[1m1250/1250\u001b[0m \u001b[32m━━━━━━━━━━━━━━━━━━━━\u001b[0m\u001b[37m\u001b[0m \u001b[1m2s\u001b[0m 1ms/step - accuracy: 0.9628 - loss: 0.1030\n",
      "Epoch 53/75\n",
      "\u001b[1m1250/1250\u001b[0m \u001b[32m━━━━━━━━━━━━━━━━━━━━\u001b[0m\u001b[37m\u001b[0m \u001b[1m2s\u001b[0m 1ms/step - accuracy: 0.9626 - loss: 0.1021\n",
      "Epoch 54/75\n",
      "\u001b[1m1250/1250\u001b[0m \u001b[32m━━━━━━━━━━━━━━━━━━━━\u001b[0m\u001b[37m\u001b[0m \u001b[1m2s\u001b[0m 1ms/step - accuracy: 0.9643 - loss: 0.0981\n",
      "Epoch 55/75\n",
      "\u001b[1m1250/1250\u001b[0m \u001b[32m━━━━━━━━━━━━━━━━━━━━\u001b[0m\u001b[37m\u001b[0m \u001b[1m2s\u001b[0m 1ms/step - accuracy: 0.9642 - loss: 0.0964\n",
      "Epoch 56/75\n",
      "\u001b[1m1250/1250\u001b[0m \u001b[32m━━━━━━━━━━━━━━━━━━━━\u001b[0m\u001b[37m\u001b[0m \u001b[1m2s\u001b[0m 1ms/step - accuracy: 0.9674 - loss: 0.0904\n",
      "Epoch 57/75\n",
      "\u001b[1m1250/1250\u001b[0m \u001b[32m━━━━━━━━━━━━━━━━━━━━\u001b[0m\u001b[37m\u001b[0m \u001b[1m2s\u001b[0m 1ms/step - accuracy: 0.9681 - loss: 0.0879\n",
      "Epoch 58/75\n",
      "\u001b[1m1250/1250\u001b[0m \u001b[32m━━━━━━━━━━━━━━━━━━━━\u001b[0m\u001b[37m\u001b[0m \u001b[1m2s\u001b[0m 1ms/step - accuracy: 0.9703 - loss: 0.0845\n",
      "Epoch 59/75\n",
      "\u001b[1m1250/1250\u001b[0m \u001b[32m━━━━━━━━━━━━━━━━━━━━\u001b[0m\u001b[37m\u001b[0m \u001b[1m2s\u001b[0m 1ms/step - accuracy: 0.9677 - loss: 0.0877\n",
      "Epoch 60/75\n",
      "\u001b[1m1250/1250\u001b[0m \u001b[32m━━━━━━━━━━━━━━━━━━━━\u001b[0m\u001b[37m\u001b[0m \u001b[1m2s\u001b[0m 1ms/step - accuracy: 0.9706 - loss: 0.0813\n",
      "Epoch 61/75\n",
      "\u001b[1m1250/1250\u001b[0m \u001b[32m━━━━━━━━━━━━━━━━━━━━\u001b[0m\u001b[37m\u001b[0m \u001b[1m2s\u001b[0m 1ms/step - accuracy: 0.9694 - loss: 0.0824\n",
      "Epoch 62/75\n",
      "\u001b[1m1250/1250\u001b[0m \u001b[32m━━━━━━━━━━━━━━━━━━━━\u001b[0m\u001b[37m\u001b[0m \u001b[1m2s\u001b[0m 1ms/step - accuracy: 0.9726 - loss: 0.0767\n",
      "Epoch 63/75\n",
      "\u001b[1m1250/1250\u001b[0m \u001b[32m━━━━━━━━━━━━━━━━━━━━\u001b[0m\u001b[37m\u001b[0m \u001b[1m2s\u001b[0m 1ms/step - accuracy: 0.9716 - loss: 0.0766\n",
      "Epoch 64/75\n",
      "\u001b[1m1250/1250\u001b[0m \u001b[32m━━━━━━━━━━━━━━━━━━━━\u001b[0m\u001b[37m\u001b[0m \u001b[1m2s\u001b[0m 1ms/step - accuracy: 0.9725 - loss: 0.0747\n",
      "Epoch 65/75\n",
      "\u001b[1m1250/1250\u001b[0m \u001b[32m━━━━━━━━━━━━━━━━━━━━\u001b[0m\u001b[37m\u001b[0m \u001b[1m2s\u001b[0m 1ms/step - accuracy: 0.9722 - loss: 0.0738\n",
      "Epoch 66/75\n",
      "\u001b[1m1250/1250\u001b[0m \u001b[32m━━━━━━━━━━━━━━━━━━━━\u001b[0m\u001b[37m\u001b[0m \u001b[1m2s\u001b[0m 1ms/step - accuracy: 0.9746 - loss: 0.0699\n",
      "Epoch 67/75\n",
      "\u001b[1m1250/1250\u001b[0m \u001b[32m━━━━━━━━━━━━━━━━━━━━\u001b[0m\u001b[37m\u001b[0m \u001b[1m2s\u001b[0m 1ms/step - accuracy: 0.9748 - loss: 0.0693\n",
      "Epoch 68/75\n",
      "\u001b[1m1250/1250\u001b[0m \u001b[32m━━━━━━━━━━━━━━━━━━━━\u001b[0m\u001b[37m\u001b[0m \u001b[1m2s\u001b[0m 1ms/step - accuracy: 0.9757 - loss: 0.0664\n",
      "Epoch 69/75\n",
      "\u001b[1m1250/1250\u001b[0m \u001b[32m━━━━━━━━━━━━━━━━━━━━\u001b[0m\u001b[37m\u001b[0m \u001b[1m2s\u001b[0m 1ms/step - accuracy: 0.9756 - loss: 0.0686\n",
      "Epoch 70/75\n",
      "\u001b[1m1250/1250\u001b[0m \u001b[32m━━━━━━━━━━━━━━━━━━━━\u001b[0m\u001b[37m\u001b[0m \u001b[1m2s\u001b[0m 1ms/step - accuracy: 0.9772 - loss: 0.0635\n",
      "Epoch 71/75\n",
      "\u001b[1m1250/1250\u001b[0m \u001b[32m━━━━━━━━━━━━━━━━━━━━\u001b[0m\u001b[37m\u001b[0m \u001b[1m2s\u001b[0m 1ms/step - accuracy: 0.9778 - loss: 0.0603\n",
      "Epoch 72/75\n",
      "\u001b[1m1250/1250\u001b[0m \u001b[32m━━━━━━━━━━━━━━━━━━━━\u001b[0m\u001b[37m\u001b[0m \u001b[1m2s\u001b[0m 2ms/step - accuracy: 0.9765 - loss: 0.0615\n",
      "Epoch 73/75\n",
      "\u001b[1m1250/1250\u001b[0m \u001b[32m━━━━━━━━━━━━━━━━━━━━\u001b[0m\u001b[37m\u001b[0m \u001b[1m2s\u001b[0m 2ms/step - accuracy: 0.9776 - loss: 0.0599\n",
      "Epoch 74/75\n",
      "\u001b[1m1250/1250\u001b[0m \u001b[32m━━━━━━━━━━━━━━━━━━━━\u001b[0m\u001b[37m\u001b[0m \u001b[1m2s\u001b[0m 1ms/step - accuracy: 0.9786 - loss: 0.0574\n",
      "Epoch 75/75\n",
      "\u001b[1m1250/1250\u001b[0m \u001b[32m━━━━━━━━━━━━━━━━━━━━\u001b[0m\u001b[37m\u001b[0m \u001b[1m2s\u001b[0m 1ms/step - accuracy: 0.9804 - loss: 0.0556\n",
      "\u001b[1m313/313\u001b[0m \u001b[32m━━━━━━━━━━━━━━━━━━━━\u001b[0m\u001b[37m\u001b[0m \u001b[1m0s\u001b[0m 698us/step - accuracy: 0.8916 - loss: 0.5115\n",
      "Test accuracy: 0.8888999819755554\n"
     ]
    }
   ],
   "source": [
    "model.fit(x_train, y_train, epochs=epochs, batch_size=batch_size, verbose=1)\n",
    "\n",
    "# Evaluate the model\n",
    "loss, accuracy = model.evaluate(x_test, y_test)\n",
    "print('Test accuracy:', accuracy)"
   ]
  },
  {
   "cell_type": "code",
   "execution_count": 66,
   "metadata": {
    "id": "ig5GXhcG5fy6"
   },
   "outputs": [
    {
     "name": "stdout",
     "output_type": "stream",
     "text": [
      "Epoch 1/75\n",
      "\u001b[1m1000/1000\u001b[0m \u001b[32m━━━━━━━━━━━━━━━━━━━━\u001b[0m\u001b[37m\u001b[0m \u001b[1m2s\u001b[0m 2ms/step - accuracy: 0.9819 - loss: 0.0509 - val_accuracy: 0.9729 - val_loss: 0.0679\n",
      "Epoch 2/75\n",
      "\u001b[1m1000/1000\u001b[0m \u001b[32m━━━━━━━━━━━━━━━━━━━━\u001b[0m\u001b[37m\u001b[0m \u001b[1m2s\u001b[0m 2ms/step - accuracy: 0.9829 - loss: 0.0475 - val_accuracy: 0.9738 - val_loss: 0.0669\n",
      "Epoch 3/75\n",
      "\u001b[1m1000/1000\u001b[0m \u001b[32m━━━━━━━━━━━━━━━━━━━━\u001b[0m\u001b[37m\u001b[0m \u001b[1m2s\u001b[0m 2ms/step - accuracy: 0.9828 - loss: 0.0488 - val_accuracy: 0.9782 - val_loss: 0.0612\n",
      "Epoch 4/75\n",
      "\u001b[1m1000/1000\u001b[0m \u001b[32m━━━━━━━━━━━━━━━━━━━━\u001b[0m\u001b[37m\u001b[0m \u001b[1m2s\u001b[0m 2ms/step - accuracy: 0.9844 - loss: 0.0442 - val_accuracy: 0.9562 - val_loss: 0.1148\n",
      "Epoch 5/75\n",
      "\u001b[1m1000/1000\u001b[0m \u001b[32m━━━━━━━━━━━━━━━━━━━━\u001b[0m\u001b[37m\u001b[0m \u001b[1m2s\u001b[0m 2ms/step - accuracy: 0.9836 - loss: 0.0436 - val_accuracy: 0.9665 - val_loss: 0.0889\n",
      "Epoch 6/75\n",
      "\u001b[1m1000/1000\u001b[0m \u001b[32m━━━━━━━━━━━━━━━━━━━━\u001b[0m\u001b[37m\u001b[0m \u001b[1m2s\u001b[0m 2ms/step - accuracy: 0.9829 - loss: 0.0473 - val_accuracy: 0.9742 - val_loss: 0.0702\n",
      "Epoch 7/75\n",
      "\u001b[1m1000/1000\u001b[0m \u001b[32m━━━━━━━━━━━━━━━━━━━━\u001b[0m\u001b[37m\u001b[0m \u001b[1m2s\u001b[0m 2ms/step - accuracy: 0.9859 - loss: 0.0393 - val_accuracy: 0.9691 - val_loss: 0.0821\n",
      "Epoch 8/75\n",
      "\u001b[1m1000/1000\u001b[0m \u001b[32m━━━━━━━━━━━━━━━━━━━━\u001b[0m\u001b[37m\u001b[0m \u001b[1m2s\u001b[0m 2ms/step - accuracy: 0.9863 - loss: 0.0399 - val_accuracy: 0.9681 - val_loss: 0.0849\n",
      "Epoch 9/75\n",
      "\u001b[1m1000/1000\u001b[0m \u001b[32m━━━━━━━━━━━━━━━━━━━━\u001b[0m\u001b[37m\u001b[0m \u001b[1m2s\u001b[0m 2ms/step - accuracy: 0.9860 - loss: 0.0400 - val_accuracy: 0.9603 - val_loss: 0.1047\n",
      "\u001b[1m313/313\u001b[0m \u001b[32m━━━━━━━━━━━━━━━━━━━━\u001b[0m\u001b[37m\u001b[0m \u001b[1m0s\u001b[0m 690us/step - accuracy: 0.8911 - loss: 0.5187\n",
      "Test accuracy: 0.8919000029563904\n"
     ]
    }
   ],
   "source": [
    "from keras.callbacks import EarlyStopping\n",
    "\n",
    "# Define early stopping callback\n",
    "early_stopping = EarlyStopping(monitor='val_loss', patience=6, restore_best_weights=True)\n",
    "\n",
    "# Train the model with early stopping\n",
    "model.fit(x_train, y_train, epochs=epochs, batch_size=batch_size, verbose=1, validation_split=0.2, callbacks=[early_stopping])\n",
    "\n",
    "# Evaluate the model\n",
    "loss, accuracy = model.evaluate(x_test, y_test)\n",
    "print('Test accuracy:', accuracy)"
   ]
  },
  {
   "cell_type": "code",
   "execution_count": 67,
   "metadata": {
    "id": "zJa4Lf76KZDM"
   },
   "outputs": [
    {
     "name": "stdout",
     "output_type": "stream",
     "text": [
      "\u001b[1m1/1\u001b[0m \u001b[32m━━━━━━━━━━━━━━━━━━━━\u001b[0m\u001b[37m\u001b[0m \u001b[1m0s\u001b[0m 38ms/step\n"
     ]
    },
    {
     "data": {
      "image/png": "[encoded data removed]",
      "text/plain": [
       "<Figure size 640x480 with 1 Axes>"
      ]
     },
     "metadata": {},
     "output_type": "display_data"
    }
   ],
   "source": [
    "image_index = 27\n",
    "\n",
    "# Extract the test image and label\n",
    "test_image = x_test[image_index]\n",
    "test_label = np.argmax(y_test[image_index])\n",
    "\n",
    "# Reshape the test image for prediction (Keras expects a batch dimension)\n",
    "test_image_reshaped = np.expand_dims(test_image, axis=0)\n",
    "\n",
    "# Make predictions on the test image\n",
    "predicted_label = np.argmax(model.predict(test_image_reshaped), axis=-1)\n",
    "\n",
    "# Plot the test image with predicted and actual labels\n",
    "plt.imshow(test_image, cmap='gray')\n",
    "plt.title(f'Predicted Label: {predicted_label[0]}, Actual Label: {test_label}')\n",
    "plt.axis('off')\n",
    "plt.show()"
   ]
  },
  {
   "cell_type": "code",
   "execution_count": 68,
   "metadata": {
    "id": "cc8F7Lo_AOII"
   },
   "outputs": [
    {
     "name": "stdout",
     "output_type": "stream",
     "text": [
      "Epoch 1/13\n",
      "\u001b[1m3750/3750\u001b[0m \u001b[32m━━━━━━━━━━━━━━━━━━━━\u001b[0m\u001b[37m\u001b[0m \u001b[1m18s\u001b[0m 4ms/step - accuracy: 0.7453 - loss: 0.7697\n",
      "Epoch 2/13\n",
      "\u001b[1m3750/3750\u001b[0m \u001b[32m━━━━━━━━━━━━━━━━━━━━\u001b[0m\u001b[37m\u001b[0m \u001b[1m17s\u001b[0m 4ms/step - accuracy: 0.8561 - loss: 0.4187\n",
      "Epoch 3/13\n",
      "\u001b[1m3750/3750\u001b[0m \u001b[32m━━━━━━━━━━━━━━━━━━━━\u001b[0m\u001b[37m\u001b[0m \u001b[1m17s\u001b[0m 4ms/step - accuracy: 0.8747 - loss: 0.3698\n",
      "Epoch 4/13\n",
      "\u001b[1m3750/3750\u001b[0m \u001b[32m━━━━━━━━━━━━━━━━━━━━\u001b[0m\u001b[37m\u001b[0m \u001b[1m17s\u001b[0m 4ms/step - accuracy: 0.8870 - loss: 0.3414\n",
      "Epoch 5/13\n",
      "\u001b[1m3750/3750\u001b[0m \u001b[32m━━━━━━━━━━━━━━━━━━━━\u001b[0m\u001b[37m\u001b[0m \u001b[1m17s\u001b[0m 5ms/step - accuracy: 0.8930 - loss: 0.3285\n",
      "Epoch 6/13\n",
      "\u001b[1m3750/3750\u001b[0m \u001b[32m━━━━━━━━━━━━━━━━━━━━\u001b[0m\u001b[37m\u001b[0m \u001b[1m17s\u001b[0m 5ms/step - accuracy: 0.8965 - loss: 0.3130\n",
      "Epoch 7/13\n",
      "\u001b[1m3750/3750\u001b[0m \u001b[32m━━━━━━━━━━━━━━━━━━━━\u001b[0m\u001b[37m\u001b[0m \u001b[1m17s\u001b[0m 5ms/step - accuracy: 0.9000 - loss: 0.3086\n",
      "Epoch 8/13\n",
      "\u001b[1m3750/3750\u001b[0m \u001b[32m━━━━━━━━━━━━━━━━━━━━\u001b[0m\u001b[37m\u001b[0m \u001b[1m17s\u001b[0m 5ms/step - accuracy: 0.9060 - loss: 0.2834\n",
      "Epoch 9/13\n",
      "\u001b[1m3750/3750\u001b[0m \u001b[32m━━━━━━━━━━━━━━━━━━━━\u001b[0m\u001b[37m\u001b[0m \u001b[1m17s\u001b[0m 5ms/step - accuracy: 0.9065 - loss: 0.2891\n",
      "Epoch 10/13\n",
      "\u001b[1m3750/3750\u001b[0m \u001b[32m━━━━━━━━━━━━━━━━━━━━\u001b[0m\u001b[37m\u001b[0m \u001b[1m17s\u001b[0m 5ms/step - accuracy: 0.9104 - loss: 0.2706\n",
      "Epoch 11/13\n",
      "\u001b[1m3750/3750\u001b[0m \u001b[32m━━━━━━━━━━━━━━━━━━━━\u001b[0m\u001b[37m\u001b[0m \u001b[1m17s\u001b[0m 5ms/step - accuracy: 0.9123 - loss: 0.2730\n",
      "Epoch 12/13\n",
      "\u001b[1m3750/3750\u001b[0m \u001b[32m━━━━━━━━━━━━━━━━━━━━\u001b[0m\u001b[37m\u001b[0m \u001b[1m17s\u001b[0m 5ms/step - accuracy: 0.9153 - loss: 0.2557\n",
      "Epoch 13/13\n",
      "\u001b[1m3750/3750\u001b[0m \u001b[32m━━━━━━━━━━━━━━━━━━━━\u001b[0m\u001b[37m\u001b[0m \u001b[1m17s\u001b[0m 5ms/step - accuracy: 0.9156 - loss: 0.2639\n",
      "313/313 - 1s - 3ms/step - accuracy: 0.9097 - loss: 0.3254\n",
      "\n",
      "Test accuracy: 0.9096999764442444\n",
      "Training finished in 221.6615481376648 seconds\n"
     ]
    }
   ],
   "source": [
    "import tensorflow as tf\n",
    "from tensorflow.keras import layers, models\n",
    "\n",
    "# Load the Fashion MNIST dataset\n",
    "fashion_mnist = tf.keras.datasets.fashion_mnist\n",
    "(train_images, train_labels), (test_images, test_labels) = fashion_mnist.load_data()\n",
    "\n",
    "# Normalize pixel values to be between 0 and 1\n",
    "train_images, test_images = train_images / 255.0, test_images / 255.0\n",
    "\n",
    "# Define the CNN model\n",
    "model = models.Sequential([\n",
    "    layers.Conv2D(64, (5, 5), input_shape=(28, 28, 1)),\n",
    "    layers.BatchNormalization(),\n",
    "    layers.Activation('relu'),\n",
    "    layers.MaxPooling2D((2, 2)),\n",
    "    layers.Conv2D(64, (3, 3)),\n",
    "    layers.BatchNormalization(),\n",
    "    layers.Activation('relu'),\n",
    "    layers.MaxPooling2D((2, 2)),\n",
    "    layers.Flatten(),\n",
    "    layers.Dense(128),\n",
    "    layers.BatchNormalization(),\n",
    "    layers.Activation('relu'),\n",
    "    layers.Dropout(0.3),\n",
    "    layers.Dense(64),\n",
    "    layers.BatchNormalization(),\n",
    "    layers.Activation('relu'),\n",
    "    layers.Dropout(0.3),\n",
    "    layers.Dense(10, activation='softmax')\n",
    "])\n",
    "\n",
    "# Compile the model\n",
    "model.compile(optimizer=tf.keras.optimizers.RMSprop(learning_rate=0.0003),\n",
    "              loss=tf.keras.losses.SparseCategoricalCrossentropy(from_logits=True),\n",
    "              metrics=['accuracy'])\n",
    "\n",
    "# Start timing\n",
    "start_time = time.time()\n",
    "\n",
    "# Train the model\n",
    "model.fit(train_images.reshape(-1, 28, 28, 1), train_labels, batch_size=16, epochs=13)\n",
    "\n",
    "# End timing\n",
    "end_time = time.time()\n",
    "\n",
    "# Evaluate the model\n",
    "test_loss, test_acc = model.evaluate(test_images.reshape(-1, 28, 28, 1), test_labels, verbose=2)\n",
    "print('\\nTest accuracy:', test_acc)\n",
    "print(f'Training finished in {end_time - start_time} seconds')"
   ]
  },
  {
   "cell_type": "code",
   "execution_count": 69,
   "metadata": {
    "scrolled": true
   },
   "outputs": [
    {
     "data": {
      "text/html": [
       "<pre style=\"white-space:pre;overflow-x:auto;line-height:normal;font-family:Menlo,'DejaVu Sans Mono',consolas,'Courier New',monospace\"><span style=\"font-weight: bold\">Model: \"sequential_20\"</span>\n",
       "</pre>\n"
      ],
      "text/plain": [
       "\u001b[1mModel: \"sequential_20\"\u001b[0m\n"
      ]
     },
     "metadata": {},
     "output_type": "display_data"
    },
    {
     "data": {
      "text/html": [
       "<pre style=\"white-space:pre;overflow-x:auto;line-height:normal;font-family:Menlo,'DejaVu Sans Mono',consolas,'Courier New',monospace\">┏━━━━━━━━━━━━━━━━━━━━━━━━━━━━━━━━━━━━━━┳━━━━━━━━━━━━━━━━━━━━━━━━━━━━━┳━━━━━━━━━━━━━━━━━┓\n",
       "┃<span style=\"font-weight: bold\"> Layer (type)                         </span>┃<span style=\"font-weight: bold\"> Output Shape                </span>┃<span style=\"font-weight: bold\">         Param # </span>┃\n",
       "┡━━━━━━━━━━━━━━━━━━━━━━━━━━━━━━━━━━━━━━╇━━━━━━━━━━━━━━━━━━━━━━━━━━━━━╇━━━━━━━━━━━━━━━━━┩\n",
       "│ conv2d_32 (<span style=\"color: #0087ff; text-decoration-color: #0087ff\">Conv2D</span>)                   │ (<span style=\"color: #00d7ff; text-decoration-color: #00d7ff\">None</span>, <span style=\"color: #00af00; text-decoration-color: #00af00\">24</span>, <span style=\"color: #00af00; text-decoration-color: #00af00\">24</span>, <span style=\"color: #00af00; text-decoration-color: #00af00\">64</span>)          │           <span style=\"color: #00af00; text-decoration-color: #00af00\">1,664</span> │\n",
       "├──────────────────────────────────────┼─────────────────────────────┼─────────────────┤\n",
       "│ batch_normalization_55               │ (<span style=\"color: #00d7ff; text-decoration-color: #00d7ff\">None</span>, <span style=\"color: #00af00; text-decoration-color: #00af00\">24</span>, <span style=\"color: #00af00; text-decoration-color: #00af00\">24</span>, <span style=\"color: #00af00; text-decoration-color: #00af00\">64</span>)          │             <span style=\"color: #00af00; text-decoration-color: #00af00\">256</span> │\n",
       "│ (<span style=\"color: #0087ff; text-decoration-color: #0087ff\">BatchNormalization</span>)                 │                             │                 │\n",
       "├──────────────────────────────────────┼─────────────────────────────┼─────────────────┤\n",
       "│ activation_52 (<span style=\"color: #0087ff; text-decoration-color: #0087ff\">Activation</span>)           │ (<span style=\"color: #00d7ff; text-decoration-color: #00d7ff\">None</span>, <span style=\"color: #00af00; text-decoration-color: #00af00\">24</span>, <span style=\"color: #00af00; text-decoration-color: #00af00\">24</span>, <span style=\"color: #00af00; text-decoration-color: #00af00\">64</span>)          │               <span style=\"color: #00af00; text-decoration-color: #00af00\">0</span> │\n",
       "├──────────────────────────────────────┼─────────────────────────────┼─────────────────┤\n",
       "│ max_pooling2d_32 (<span style=\"color: #0087ff; text-decoration-color: #0087ff\">MaxPooling2D</span>)      │ (<span style=\"color: #00d7ff; text-decoration-color: #00d7ff\">None</span>, <span style=\"color: #00af00; text-decoration-color: #00af00\">12</span>, <span style=\"color: #00af00; text-decoration-color: #00af00\">12</span>, <span style=\"color: #00af00; text-decoration-color: #00af00\">64</span>)          │               <span style=\"color: #00af00; text-decoration-color: #00af00\">0</span> │\n",
       "├──────────────────────────────────────┼─────────────────────────────┼─────────────────┤\n",
       "│ conv2d_33 (<span style=\"color: #0087ff; text-decoration-color: #0087ff\">Conv2D</span>)                   │ (<span style=\"color: #00d7ff; text-decoration-color: #00d7ff\">None</span>, <span style=\"color: #00af00; text-decoration-color: #00af00\">10</span>, <span style=\"color: #00af00; text-decoration-color: #00af00\">10</span>, <span style=\"color: #00af00; text-decoration-color: #00af00\">64</span>)          │          <span style=\"color: #00af00; text-decoration-color: #00af00\">36,928</span> │\n",
       "├──────────────────────────────────────┼─────────────────────────────┼─────────────────┤\n",
       "│ batch_normalization_56               │ (<span style=\"color: #00d7ff; text-decoration-color: #00d7ff\">None</span>, <span style=\"color: #00af00; text-decoration-color: #00af00\">10</span>, <span style=\"color: #00af00; text-decoration-color: #00af00\">10</span>, <span style=\"color: #00af00; text-decoration-color: #00af00\">64</span>)          │             <span style=\"color: #00af00; text-decoration-color: #00af00\">256</span> │\n",
       "│ (<span style=\"color: #0087ff; text-decoration-color: #0087ff\">BatchNormalization</span>)                 │                             │                 │\n",
       "├──────────────────────────────────────┼─────────────────────────────┼─────────────────┤\n",
       "│ activation_53 (<span style=\"color: #0087ff; text-decoration-color: #0087ff\">Activation</span>)           │ (<span style=\"color: #00d7ff; text-decoration-color: #00d7ff\">None</span>, <span style=\"color: #00af00; text-decoration-color: #00af00\">10</span>, <span style=\"color: #00af00; text-decoration-color: #00af00\">10</span>, <span style=\"color: #00af00; text-decoration-color: #00af00\">64</span>)          │               <span style=\"color: #00af00; text-decoration-color: #00af00\">0</span> │\n",
       "├──────────────────────────────────────┼─────────────────────────────┼─────────────────┤\n",
       "│ max_pooling2d_33 (<span style=\"color: #0087ff; text-decoration-color: #0087ff\">MaxPooling2D</span>)      │ (<span style=\"color: #00d7ff; text-decoration-color: #00d7ff\">None</span>, <span style=\"color: #00af00; text-decoration-color: #00af00\">5</span>, <span style=\"color: #00af00; text-decoration-color: #00af00\">5</span>, <span style=\"color: #00af00; text-decoration-color: #00af00\">64</span>)            │               <span style=\"color: #00af00; text-decoration-color: #00af00\">0</span> │\n",
       "├──────────────────────────────────────┼─────────────────────────────┼─────────────────┤\n",
       "│ flatten_20 (<span style=\"color: #0087ff; text-decoration-color: #0087ff\">Flatten</span>)                 │ (<span style=\"color: #00d7ff; text-decoration-color: #00d7ff\">None</span>, <span style=\"color: #00af00; text-decoration-color: #00af00\">1600</span>)                │               <span style=\"color: #00af00; text-decoration-color: #00af00\">0</span> │\n",
       "├──────────────────────────────────────┼─────────────────────────────┼─────────────────┤\n",
       "│ dense_70 (<span style=\"color: #0087ff; text-decoration-color: #0087ff\">Dense</span>)                     │ (<span style=\"color: #00d7ff; text-decoration-color: #00d7ff\">None</span>, <span style=\"color: #00af00; text-decoration-color: #00af00\">128</span>)                 │         <span style=\"color: #00af00; text-decoration-color: #00af00\">204,928</span> │\n",
       "├──────────────────────────────────────┼─────────────────────────────┼─────────────────┤\n",
       "│ batch_normalization_57               │ (<span style=\"color: #00d7ff; text-decoration-color: #00d7ff\">None</span>, <span style=\"color: #00af00; text-decoration-color: #00af00\">128</span>)                 │             <span style=\"color: #00af00; text-decoration-color: #00af00\">512</span> │\n",
       "│ (<span style=\"color: #0087ff; text-decoration-color: #0087ff\">BatchNormalization</span>)                 │                             │                 │\n",
       "├──────────────────────────────────────┼─────────────────────────────┼─────────────────┤\n",
       "│ activation_54 (<span style=\"color: #0087ff; text-decoration-color: #0087ff\">Activation</span>)           │ (<span style=\"color: #00d7ff; text-decoration-color: #00d7ff\">None</span>, <span style=\"color: #00af00; text-decoration-color: #00af00\">128</span>)                 │               <span style=\"color: #00af00; text-decoration-color: #00af00\">0</span> │\n",
       "├──────────────────────────────────────┼─────────────────────────────┼─────────────────┤\n",
       "│ dropout_29 (<span style=\"color: #0087ff; text-decoration-color: #0087ff\">Dropout</span>)                 │ (<span style=\"color: #00d7ff; text-decoration-color: #00d7ff\">None</span>, <span style=\"color: #00af00; text-decoration-color: #00af00\">128</span>)                 │               <span style=\"color: #00af00; text-decoration-color: #00af00\">0</span> │\n",
       "├──────────────────────────────────────┼─────────────────────────────┼─────────────────┤\n",
       "│ dense_71 (<span style=\"color: #0087ff; text-decoration-color: #0087ff\">Dense</span>)                     │ (<span style=\"color: #00d7ff; text-decoration-color: #00d7ff\">None</span>, <span style=\"color: #00af00; text-decoration-color: #00af00\">64</span>)                  │           <span style=\"color: #00af00; text-decoration-color: #00af00\">8,256</span> │\n",
       "├──────────────────────────────────────┼─────────────────────────────┼─────────────────┤\n",
       "│ batch_normalization_58               │ (<span style=\"color: #00d7ff; text-decoration-color: #00d7ff\">None</span>, <span style=\"color: #00af00; text-decoration-color: #00af00\">64</span>)                  │             <span style=\"color: #00af00; text-decoration-color: #00af00\">256</span> │\n",
       "│ (<span style=\"color: #0087ff; text-decoration-color: #0087ff\">BatchNormalization</span>)                 │                             │                 │\n",
       "├──────────────────────────────────────┼─────────────────────────────┼─────────────────┤\n",
       "│ activation_55 (<span style=\"color: #0087ff; text-decoration-color: #0087ff\">Activation</span>)           │ (<span style=\"color: #00d7ff; text-decoration-color: #00d7ff\">None</span>, <span style=\"color: #00af00; text-decoration-color: #00af00\">64</span>)                  │               <span style=\"color: #00af00; text-decoration-color: #00af00\">0</span> │\n",
       "├──────────────────────────────────────┼─────────────────────────────┼─────────────────┤\n",
       "│ dropout_30 (<span style=\"color: #0087ff; text-decoration-color: #0087ff\">Dropout</span>)                 │ (<span style=\"color: #00d7ff; text-decoration-color: #00d7ff\">None</span>, <span style=\"color: #00af00; text-decoration-color: #00af00\">64</span>)                  │               <span style=\"color: #00af00; text-decoration-color: #00af00\">0</span> │\n",
       "├──────────────────────────────────────┼─────────────────────────────┼─────────────────┤\n",
       "│ dense_72 (<span style=\"color: #0087ff; text-decoration-color: #0087ff\">Dense</span>)                     │ (<span style=\"color: #00d7ff; text-decoration-color: #00d7ff\">None</span>, <span style=\"color: #00af00; text-decoration-color: #00af00\">10</span>)                  │             <span style=\"color: #00af00; text-decoration-color: #00af00\">650</span> │\n",
       "└──────────────────────────────────────┴─────────────────────────────┴─────────────────┘\n",
       "</pre>\n"
      ],
      "text/plain": [
       "┏━━━━━━━━━━━━━━━━━━━━━━━━━━━━━━━━━━━━━━┳━━━━━━━━━━━━━━━━━━━━━━━━━━━━━┳━━━━━━━━━━━━━━━━━┓\n",
       "┃\u001b[1m \u001b[0m\u001b[1mLayer (type)                        \u001b[0m\u001b[1m \u001b[0m┃\u001b[1m \u001b[0m\u001b[1mOutput Shape               \u001b[0m\u001b[1m \u001b[0m┃\u001b[1m \u001b[0m\u001b[1m        Param #\u001b[0m\u001b[1m \u001b[0m┃\n",
       "┡━━━━━━━━━━━━━━━━━━━━━━━━━━━━━━━━━━━━━━╇━━━━━━━━━━━━━━━━━━━━━━━━━━━━━╇━━━━━━━━━━━━━━━━━┩\n",
       "│ conv2d_32 (\u001b[38;5;33mConv2D\u001b[0m)                   │ (\u001b[38;5;45mNone\u001b[0m, \u001b[38;5;34m24\u001b[0m, \u001b[38;5;34m24\u001b[0m, \u001b[38;5;34m64\u001b[0m)          │           \u001b[38;5;34m1,664\u001b[0m │\n",
       "├──────────────────────────────────────┼─────────────────────────────┼─────────────────┤\n",
       "│ batch_normalization_55               │ (\u001b[38;5;45mNone\u001b[0m, \u001b[38;5;34m24\u001b[0m, \u001b[38;5;34m24\u001b[0m, \u001b[38;5;34m64\u001b[0m)          │             \u001b[38;5;34m256\u001b[0m │\n",
       "│ (\u001b[38;5;33mBatchNormalization\u001b[0m)                 │                             │                 │\n",
       "├──────────────────────────────────────┼─────────────────────────────┼─────────────────┤\n",
       "│ activation_52 (\u001b[38;5;33mActivation\u001b[0m)           │ (\u001b[38;5;45mNone\u001b[0m, \u001b[38;5;34m24\u001b[0m, \u001b[38;5;34m24\u001b[0m, \u001b[38;5;34m64\u001b[0m)          │               \u001b[38;5;34m0\u001b[0m │\n",
       "├──────────────────────────────────────┼─────────────────────────────┼─────────────────┤\n",
       "│ max_pooling2d_32 (\u001b[38;5;33mMaxPooling2D\u001b[0m)      │ (\u001b[38;5;45mNone\u001b[0m, \u001b[38;5;34m12\u001b[0m, \u001b[38;5;34m12\u001b[0m, \u001b[38;5;34m64\u001b[0m)          │               \u001b[38;5;34m0\u001b[0m │\n",
       "├──────────────────────────────────────┼─────────────────────────────┼─────────────────┤\n",
       "│ conv2d_33 (\u001b[38;5;33mConv2D\u001b[0m)                   │ (\u001b[38;5;45mNone\u001b[0m, \u001b[38;5;34m10\u001b[0m, \u001b[38;5;34m10\u001b[0m, \u001b[38;5;34m64\u001b[0m)          │          \u001b[38;5;34m36,928\u001b[0m │\n",
       "├──────────────────────────────────────┼─────────────────────────────┼─────────────────┤\n",
       "│ batch_normalization_56               │ (\u001b[38;5;45mNone\u001b[0m, \u001b[38;5;34m10\u001b[0m, \u001b[38;5;34m10\u001b[0m, \u001b[38;5;34m64\u001b[0m)          │             \u001b[38;5;34m256\u001b[0m │\n",
       "│ (\u001b[38;5;33mBatchNormalization\u001b[0m)                 │                             │                 │\n",
       "├──────────────────────────────────────┼─────────────────────────────┼─────────────────┤\n",
       "│ activation_53 (\u001b[38;5;33mActivation\u001b[0m)           │ (\u001b[38;5;45mNone\u001b[0m, \u001b[38;5;34m10\u001b[0m, \u001b[38;5;34m10\u001b[0m, \u001b[38;5;34m64\u001b[0m)          │               \u001b[38;5;34m0\u001b[0m │\n",
       "├──────────────────────────────────────┼─────────────────────────────┼─────────────────┤\n",
       "│ max_pooling2d_33 (\u001b[38;5;33mMaxPooling2D\u001b[0m)      │ (\u001b[38;5;45mNone\u001b[0m, \u001b[38;5;34m5\u001b[0m, \u001b[38;5;34m5\u001b[0m, \u001b[38;5;34m64\u001b[0m)            │               \u001b[38;5;34m0\u001b[0m │\n",
       "├──────────────────────────────────────┼─────────────────────────────┼─────────────────┤\n",
       "│ flatten_20 (\u001b[38;5;33mFlatten\u001b[0m)                 │ (\u001b[38;5;45mNone\u001b[0m, \u001b[38;5;34m1600\u001b[0m)                │               \u001b[38;5;34m0\u001b[0m │\n",
       "├──────────────────────────────────────┼─────────────────────────────┼─────────────────┤\n",
       "│ dense_70 (\u001b[38;5;33mDense\u001b[0m)                     │ (\u001b[38;5;45mNone\u001b[0m, \u001b[38;5;34m128\u001b[0m)                 │         \u001b[38;5;34m204,928\u001b[0m │\n",
       "├──────────────────────────────────────┼─────────────────────────────┼─────────────────┤\n",
       "│ batch_normalization_57               │ (\u001b[38;5;45mNone\u001b[0m, \u001b[38;5;34m128\u001b[0m)                 │             \u001b[38;5;34m512\u001b[0m │\n",
       "│ (\u001b[38;5;33mBatchNormalization\u001b[0m)                 │                             │                 │\n",
       "├──────────────────────────────────────┼─────────────────────────────┼─────────────────┤\n",
       "│ activation_54 (\u001b[38;5;33mActivation\u001b[0m)           │ (\u001b[38;5;45mNone\u001b[0m, \u001b[38;5;34m128\u001b[0m)                 │               \u001b[38;5;34m0\u001b[0m │\n",
       "├──────────────────────────────────────┼─────────────────────────────┼─────────────────┤\n",
       "│ dropout_29 (\u001b[38;5;33mDropout\u001b[0m)                 │ (\u001b[38;5;45mNone\u001b[0m, \u001b[38;5;34m128\u001b[0m)                 │               \u001b[38;5;34m0\u001b[0m │\n",
       "├──────────────────────────────────────┼─────────────────────────────┼─────────────────┤\n",
       "│ dense_71 (\u001b[38;5;33mDense\u001b[0m)                     │ (\u001b[38;5;45mNone\u001b[0m, \u001b[38;5;34m64\u001b[0m)                  │           \u001b[38;5;34m8,256\u001b[0m │\n",
       "├──────────────────────────────────────┼─────────────────────────────┼─────────────────┤\n",
       "│ batch_normalization_58               │ (\u001b[38;5;45mNone\u001b[0m, \u001b[38;5;34m64\u001b[0m)                  │             \u001b[38;5;34m256\u001b[0m │\n",
       "│ (\u001b[38;5;33mBatchNormalization\u001b[0m)                 │                             │                 │\n",
       "├──────────────────────────────────────┼─────────────────────────────┼─────────────────┤\n",
       "│ activation_55 (\u001b[38;5;33mActivation\u001b[0m)           │ (\u001b[38;5;45mNone\u001b[0m, \u001b[38;5;34m64\u001b[0m)                  │               \u001b[38;5;34m0\u001b[0m │\n",
       "├──────────────────────────────────────┼─────────────────────────────┼─────────────────┤\n",
       "│ dropout_30 (\u001b[38;5;33mDropout\u001b[0m)                 │ (\u001b[38;5;45mNone\u001b[0m, \u001b[38;5;34m64\u001b[0m)                  │               \u001b[38;5;34m0\u001b[0m │\n",
       "├──────────────────────────────────────┼─────────────────────────────┼─────────────────┤\n",
       "│ dense_72 (\u001b[38;5;33mDense\u001b[0m)                     │ (\u001b[38;5;45mNone\u001b[0m, \u001b[38;5;34m10\u001b[0m)                  │             \u001b[38;5;34m650\u001b[0m │\n",
       "└──────────────────────────────────────┴─────────────────────────────┴─────────────────┘\n"
      ]
     },
     "metadata": {},
     "output_type": "display_data"
    },
    {
     "data": {
      "text/html": [
       "<pre style=\"white-space:pre;overflow-x:auto;line-height:normal;font-family:Menlo,'DejaVu Sans Mono',consolas,'Courier New',monospace\"><span style=\"font-weight: bold\"> Total params: </span><span style=\"color: #00af00; text-decoration-color: #00af00\">506,774</span> (1.93 MB)\n",
       "</pre>\n"
      ],
      "text/plain": [
       "\u001b[1m Total params: \u001b[0m\u001b[38;5;34m506,774\u001b[0m (1.93 MB)\n"
      ]
     },
     "metadata": {},
     "output_type": "display_data"
    },
    {
     "data": {
      "text/html": [
       "<pre style=\"white-space:pre;overflow-x:auto;line-height:normal;font-family:Menlo,'DejaVu Sans Mono',consolas,'Courier New',monospace\"><span style=\"font-weight: bold\"> Trainable params: </span><span style=\"color: #00af00; text-decoration-color: #00af00\">253,066</span> (988.54 KB)\n",
       "</pre>\n"
      ],
      "text/plain": [
       "\u001b[1m Trainable params: \u001b[0m\u001b[38;5;34m253,066\u001b[0m (988.54 KB)\n"
      ]
     },
     "metadata": {},
     "output_type": "display_data"
    },
    {
     "data": {
      "text/html": [
       "<pre style=\"white-space:pre;overflow-x:auto;line-height:normal;font-family:Menlo,'DejaVu Sans Mono',consolas,'Courier New',monospace\"><span style=\"font-weight: bold\"> Non-trainable params: </span><span style=\"color: #00af00; text-decoration-color: #00af00\">640</span> (2.50 KB)\n",
       "</pre>\n"
      ],
      "text/plain": [
       "\u001b[1m Non-trainable params: \u001b[0m\u001b[38;5;34m640\u001b[0m (2.50 KB)\n"
      ]
     },
     "metadata": {},
     "output_type": "display_data"
    },
    {
     "data": {
      "text/html": [
       "<pre style=\"white-space:pre;overflow-x:auto;line-height:normal;font-family:Menlo,'DejaVu Sans Mono',consolas,'Courier New',monospace\"><span style=\"font-weight: bold\"> Optimizer params: </span><span style=\"color: #00af00; text-decoration-color: #00af00\">253,068</span> (988.55 KB)\n",
       "</pre>\n"
      ],
      "text/plain": [
       "\u001b[1m Optimizer params: \u001b[0m\u001b[38;5;34m253,068\u001b[0m (988.55 KB)\n"
      ]
     },
     "metadata": {},
     "output_type": "display_data"
    }
   ],
   "source": [
    "model.summary()"
   ]
  },
  {
   "cell_type": "code",
   "execution_count": 70,
   "metadata": {},
   "outputs": [
    {
     "name": "stdout",
     "output_type": "stream",
     "text": [
      "Layer: conv2d_32\n",
      "Weights shape: (5, 5, 1, 64)\n",
      "Biases shape: (64,)\n",
      "\n",
      "Layer: batch_normalization_55\n",
      "Weights shape: (64,)\n",
      "Biases shape: (64,)\n",
      "\n",
      "Layer: conv2d_33\n",
      "Weights shape: (3, 3, 64, 64)\n",
      "Biases shape: (64,)\n",
      "\n",
      "Layer: batch_normalization_56\n",
      "Weights shape: (64,)\n",
      "Biases shape: (64,)\n",
      "\n",
      "Layer: dense_70\n",
      "Weights shape: (1600, 128)\n",
      "Biases shape: (128,)\n",
      "\n",
      "Layer: batch_normalization_57\n",
      "Weights shape: (128,)\n",
      "Biases shape: (128,)\n",
      "\n",
      "Layer: dense_71\n",
      "Weights shape: (128, 64)\n",
      "Biases shape: (64,)\n",
      "\n",
      "Layer: batch_normalization_58\n",
      "Weights shape: (64,)\n",
      "Biases shape: (64,)\n",
      "\n",
      "Layer: dense_72\n",
      "Weights shape: (64, 10)\n",
      "Biases shape: (10,)\n",
      "\n"
     ]
    }
   ],
   "source": [
    "for layer in model.layers:\n",
    "    weights = layer.get_weights()\n",
    "    if weights:\n",
    "        print(f\"Layer: {layer.name}\")\n",
    "        print(f\"Weights shape: {weights[0].shape}\")\n",
    "        print(f\"Biases shape: {weights[1].shape}\")\n",
    "        print()\n"
   ]
  },
  {
   "cell_type": "markdown",
   "metadata": {
    "id": "nK1xXT5W7cMS"
   },
   "source": [
    "## AUTOMATED TUNING (EXETENDED)"
   ]
  },
  {
   "cell_type": "code",
   "execution_count": 71,
   "metadata": {
    "id": "yIeVei_C8sVB"
   },
   "outputs": [
    {
     "ename": "SyntaxError",
     "evalue": "invalid syntax (1321126897.py, line 1)",
     "output_type": "error",
     "traceback": [
      "\u001b[1;36m  Cell \u001b[1;32mIn[71], line 1\u001b[1;36m\u001b[0m\n\u001b[1;33m    https://www.tensorflow.org/tensorboard/hyperparameter_tuning_with_hparams\u001b[0m\n\u001b[1;37m          ^\u001b[0m\n\u001b[1;31mSyntaxError\u001b[0m\u001b[1;31m:\u001b[0m invalid syntax\n"
     ]
    }
   ],
   "source": [
    "https://www.tensorflow.org/tensorboard/hyperparameter_tuning_with_hparams"
   ]
  }
 ],
 "metadata": {
  "accelerator": "GPU",
  "colab": {
   "gpuType": "T4",
   "provenance": [],
   "toc_visible": true
  },
  "kernelspec": {
   "display_name": "dl_proj2",
   "language": "python",
   "name": "dl_proj2"
  },
  "language_info": {
   "codemirror_mode": {
    "name": "ipython",
    "version": 3
   },
   "file_extension": ".py",
   "mimetype": "text/x-python",
   "name": "python",
   "nbconvert_exporter": "python",
   "pygments_lexer": "ipython3",
   "version": "3.12.1"
  }
 },
 "nbformat": 4,
 "nbformat_minor": 4
}
